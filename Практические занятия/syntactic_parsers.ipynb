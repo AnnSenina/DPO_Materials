{
  "nbformat": 4,
  "nbformat_minor": 0,
  "metadata": {
    "colab": {
      "name": "syntactic_parsers.ipynb",
      "provenance": [],
      "collapsed_sections": [
        "79x1gVQd9tD7",
        "IJch2wMgi3Jd",
        "rEiIcHJNV5vo",
        "j4KQhGTXQhbc",
        "CTls7y3gQrTG",
        "v_ZO2RZM-7ZJ"
      ],
      "machine_shape": "hm",
      "include_colab_link": true
    },
    "kernelspec": {
      "name": "python3",
      "display_name": "Python 3"
    }
  },
  "cells": [
    {
      "cell_type": "markdown",
      "metadata": {
        "id": "view-in-github",
        "colab_type": "text"
      },
      "source": [
        "<a href=\"https://colab.research.google.com/github/sjut/DPO_Materials/blob/master/%D0%9F%D1%80%D0%B0%D0%BA%D1%82%D0%B8%D1%87%D0%B5%D1%81%D0%BA%D0%B8%D0%B5%20%D0%B7%D0%B0%D0%BD%D1%8F%D1%82%D0%B8%D1%8F/syntactic_parsers.ipynb\" target=\"_parent\"><img src=\"https://colab.research.google.com/assets/colab-badge.svg\" alt=\"Open In Colab\"/></a>"
      ]
    },
    {
      "cell_type": "markdown",
      "metadata": {
        "id": "FJQqpfFoYWLc",
        "colab_type": "text"
      },
      "source": [
        "сегодня мы поговорим о синтаксических анализаторах: два главных - это парсеры от UDPipe и DeepPavlov, но в конце тетрадки вспомним про другие(обзорно) и попробуем основные два на парктике"
      ]
    },
    {
      "cell_type": "markdown",
      "metadata": {
        "id": "IJ3Cu1K-TwLW",
        "colab_type": "text"
      },
      "source": [
        "## UDPipe 2.0"
      ]
    },
    {
      "cell_type": "markdown",
      "metadata": {
        "id": "iiOE0dwxhtv_",
        "colab_type": "text"
      },
      "source": [
        "UDPipe - это готовый пайплайн* для токенизации, частеречной разметки, лемматизации и синтаксической разметки. Работает с файлами в формате [CoNLL-U](http://universaldependencies.org/format.html)\n",
        "<br>\n",
        "Есть как готовые [предобученные модели](https://github.com/jwijffels/udpipe.models.ud.2.0/tree/master/inst/udpipe-ud-2.0-170801), так и возможность обучить модель на своих данных (но это небыстро). \n",
        "\n",
        "Использует теги [UD-формата](https://universaldependencies.org/)\n",
        "______\n",
        "*пайплайном называют цепочку из нескольких инструментов, используемых один за другим (pipeline, от англ. pipe- труба)*"
      ]
    },
    {
      "cell_type": "markdown",
      "metadata": {
        "id": "6TzMKf_jT1Fm",
        "colab_type": "text"
      },
      "source": [
        "* [общая информация](http://ufal.mff.cuni.cz/udpipe#language_models)\n",
        "* [мануал](http://ufal.mff.cuni.cz/udpipe/users-manual)\n",
        "* [репозиторий](https://github.com/ufal/udpipe)\n",
        "* [статья с описанием архитектуры](http://ufal.mff.cuni.cz/~straka/papers/2017-conll_udpipe.pdf)\n",
        "* [онлайн-версия](http://lindat.mff.cuni.cz/services/udpipe/)\n",
        "\n"
      ]
    },
    {
      "cell_type": "markdown",
      "metadata": {
        "id": "apvl_B96VdkP",
        "colab_type": "text"
      },
      "source": [
        "### шаг1: установка библиотеки\n",
        "полная информация о разных способах установки UDPipe [здесь](http://ufal.mff.cuni.cz/udpipe/install)\n",
        "<br>\n",
        "Мы попробуем простую, установив UPpipe как специальную библиотеку для питона, через ```pip3```\n",
        "\n",
        "[документация для питонской библиотеки](https://pypi.org/project/ufal.udpipe/)"
      ]
    },
    {
      "cell_type": "code",
      "metadata": {
        "id": "jNPHxwb0j0OE",
        "colab_type": "code",
        "outputId": "7d6052e8-1a5f-4d3c-d86e-d1d068560f6d",
        "colab": {
          "base_uri": "https://localhost:8080/",
          "height": 207
        }
      },
      "source": [
        "# ячейка может выполняться долго, это нормально\n",
        "! pip3 install ufal.udpipe\n",
        "from ufal.udpipe import Model, Pipeline #импортируем нужные части из модуля"
      ],
      "execution_count": 30,
      "outputs": [
        {
          "output_type": "stream",
          "text": [
            "Collecting ufal.udpipe\n",
            "\u001b[?25l  Downloading https://files.pythonhosted.org/packages/e5/72/2b8b9dc7c80017c790bb3308bbad34b57accfed2ac2f1f4ab252ff4e9cb2/ufal.udpipe-1.2.0.3.tar.gz (304kB)\n",
            "\u001b[K     |████████████████████████████████| 307kB 2.8MB/s \n",
            "\u001b[?25hBuilding wheels for collected packages: ufal.udpipe\n",
            "  Building wheel for ufal.udpipe (setup.py) ... \u001b[?25l\u001b[?25hdone\n",
            "  Created wheel for ufal.udpipe: filename=ufal.udpipe-1.2.0.3-cp36-cp36m-linux_x86_64.whl size=5625845 sha256=52ab8cb235e431db2b8b0827ce22c69ef85b0837a13d468a5ba010e5bdce45e7\n",
            "  Stored in directory: /root/.cache/pip/wheels/0c/9d/db/6d3404c33da5b7adb6c6972853efb6a27649d3ba15f7e9bebb\n",
            "Successfully built ufal.udpipe\n",
            "Installing collected packages: ufal.udpipe\n",
            "Successfully installed ufal.udpipe-1.2.0.3\n"
          ],
          "name": "stdout"
        }
      ]
    },
    {
      "cell_type": "markdown",
      "metadata": {
        "id": "79x1gVQd9tD7",
        "colab_type": "text"
      },
      "source": [
        "### шаг2: выбор модели\n",
        "\n",
        "Чтобы работать с UDPipe, нужно выбрать модель: уже готовую, или обучить на своих данных.\n",
        "<br>\n",
        "Мы сегодня не будем обучать новые модели (это слишком долго), а используем [готовую модель для русского](https://github.com/jwijffels/udpipe.models.ud.2.0/blob/master/inst/udpipe-ud-2.0-170801/russian-ud-2.0-170801.udpipe)"
      ]
    },
    {
      "cell_type": "code",
      "metadata": {
        "id": "1LIzqOtHAybz",
        "colab_type": "code",
        "outputId": "41435ea3-8c1e-4956-f3a1-e177dca6a8c0",
        "colab": {
          "base_uri": "https://localhost:8080/",
          "height": 377
        }
      },
      "source": [
        "UDPIPE_MODEL_FN = \"model_ru.udpipe\"\n",
        "!wget -O {UDPIPE_MODEL_FN} https://github.com/jwijffels/udpipe.models.ud.2.0/blob/master/inst/udpipe-ud-2.0-170801/russian-ud-2.0-170801.udpipe?raw=true"
      ],
      "execution_count": 28,
      "outputs": [
        {
          "output_type": "stream",
          "text": [
            "--2019-12-07 01:56:50--  https://github.com/jwijffels/udpipe.models.ud.2.0/blob/master/inst/udpipe-ud-2.0-170801/russian-ud-2.0-170801.udpipe?raw=true\n",
            "Resolving github.com (github.com)... 192.30.253.112\n",
            "Connecting to github.com (github.com)|192.30.253.112|:443... connected.\n",
            "HTTP request sent, awaiting response... 302 Found\n",
            "Location: https://github.com/jwijffels/udpipe.models.ud.2.0/raw/master/inst/udpipe-ud-2.0-170801/russian-ud-2.0-170801.udpipe [following]\n",
            "--2019-12-07 01:56:50--  https://github.com/jwijffels/udpipe.models.ud.2.0/raw/master/inst/udpipe-ud-2.0-170801/russian-ud-2.0-170801.udpipe\n",
            "Reusing existing connection to github.com:443.\n",
            "HTTP request sent, awaiting response... 302 Found\n",
            "Location: https://raw.githubusercontent.com/jwijffels/udpipe.models.ud.2.0/master/inst/udpipe-ud-2.0-170801/russian-ud-2.0-170801.udpipe [following]\n",
            "--2019-12-07 01:56:51--  https://raw.githubusercontent.com/jwijffels/udpipe.models.ud.2.0/master/inst/udpipe-ud-2.0-170801/russian-ud-2.0-170801.udpipe\n",
            "Resolving raw.githubusercontent.com (raw.githubusercontent.com)... 151.101.0.133, 151.101.64.133, 151.101.128.133, ...\n",
            "Connecting to raw.githubusercontent.com (raw.githubusercontent.com)|151.101.0.133|:443... connected.\n",
            "HTTP request sent, awaiting response... 200 OK\n",
            "Length: 13265262 (13M) [application/octet-stream]\n",
            "Saving to: ‘model_ru.udpipe’\n",
            "\n",
            "model_ru.udpipe     100%[===================>]  12.65M  77.8MB/s    in 0.2s    \n",
            "\n",
            "2019-12-07 01:56:51 (77.8 MB/s) - ‘model_ru.udpipe’ saved [13265262/13265262]\n",
            "\n"
          ],
          "name": "stdout"
        }
      ]
    },
    {
      "cell_type": "code",
      "metadata": {
        "id": "4sZzFw689tEf",
        "colab_type": "code",
        "colab": {}
      },
      "source": [
        "model = Model.load(UDPIPE_MODEL_FN) # загружаем модель, сохраняем в переменную model"
      ],
      "execution_count": 0,
      "outputs": []
    },
    {
      "cell_type": "markdown",
      "metadata": {
        "id": "fcqE7FFbitjo",
        "colab_type": "text"
      },
      "source": [
        "### шаг3 текст\n",
        "\n",
        "создадим какой-нибудь небольшой текст, на котором будем тестить модель:\n",
        "\n",
        "    1\tСобянин\t_\tNOUN\t_\tAnimacy=Anim|Case=Nom|Gender=Masc|Number=Sing|fPOS=NOUN++\t2\tnsubj\t_\t_\n",
        "    2\tоткрыл\t_\tVERB\t_\tAspect=Perf|Gender=Masc|Mood=Ind|Number=Sing|Tense=Past|VerbForm=Fin|Voice=Act|fPOS=VERB++\t0\tROOT\t_\t_\n",
        "    3\tновый\t_\tADJ\t_\tAnimacy=Inan|Case=Acc|Degree=Pos|Gender=Masc|Number=Sing|fPOS=ADJ++\t4\tamod\t_\t_\n",
        "    4\tпарк\t_\tNOUN\t_\tAnimacy=Inan|Case=Acc|Gender=Masc|Number=Sing|fPOS=NOUN++\t2\tdobj\t_\t_\n",
        "    5\tи\t_\tCONJ\t_\tfPOS=CONJ++\t4\tcc\t_\t_\n",
        "    6\tдетскую\t_\tADJ\t_\tCase=Acc|Degree=Pos|Gender=Fem|Number=Sing|fPOS=ADJ++\t7\tamod\t_\t_\n",
        "    7\tплощадку\t_\tNOUN\t_\tAnimacy=Inan|Case=Acc|Gender=Fem|Number=Sing|fPOS=NOUN++\t4\tconj\t_\t_\n",
        "    8\t.\t_\tPUNCT\t.\tfPOS=PUNCT++.\t2\tpunct\t_\t_"
      ]
    },
    {
      "cell_type": "code",
      "metadata": {
        "id": "upWpD0TX9tHR",
        "colab_type": "code",
        "outputId": "2ba2ac75-780d-4698-af4b-6283a76da71b",
        "colab": {
          "base_uri": "https://localhost:8080/",
          "height": 34
        }
      },
      "source": [
        "sent = \"Собянин открыл новый парк и детскую площадку.\"\n",
        "print(sent)"
      ],
      "execution_count": 37,
      "outputs": [
        {
          "output_type": "stream",
          "text": [
            "Собянин открыл новый парк и детскую площадку.\n"
          ],
          "name": "stdout"
        }
      ]
    },
    {
      "cell_type": "markdown",
      "metadata": {
        "id": "IJch2wMgi3Jd",
        "colab_type": "text"
      },
      "source": [
        "### шаг4: анализируем"
      ]
    },
    {
      "cell_type": "code",
      "metadata": {
        "id": "34aHBI1Y6yDr",
        "colab_type": "code",
        "outputId": "f03e068e-f72d-45af-9bfa-b9499121ab45",
        "colab": {
          "base_uri": "https://localhost:8080/",
          "height": 275
        }
      },
      "source": [
        "pipeline = Pipeline(model, 'generic_tokenizer', '','','') #функции нужно 5 аргументов,но нам важны только 2\n",
        "#сохраняем в переменную результат токенизации\n",
        "ud_res = []\n",
        "parsed = pipeline.process(sent) # функция process сделает синтаксический анализ, сохраняем еще раз\n",
        "\n",
        "print(parsed) # печатаем результат\n",
        "#type(parsed)"
      ],
      "execution_count": 55,
      "outputs": [
        {
          "output_type": "stream",
          "text": [
            "# newdoc\n",
            "# newpar\n",
            "# sent_id = 1\n",
            "# text = Собянин открыл новый парк и детскую площадку.\n",
            "1\tСобянин\tСобянин\tPROPN\tNNP\tAnimacy=Anim|Case=Nom|Gender=Masc|Number=Sing\t2\tnsubj\t_\t_\n",
            "2\tоткрыл\tОТКРЫТЬ\tVERB\tVBC\tAspect=Perf|Gender=Masc|Mood=Ind|Number=Sing|Tense=Past|VerbForm=Fin\t0\troot\t_\t_\n",
            "3\tновый\tНОВЫЙ\tADJ\tJJL\tAnimacy=Inan|Case=Acc|Gender=Masc|Number=Sing\t4\tamod\t_\t_\n",
            "4\tпарк\tПАРК\tNOUN\tNN\tAnimacy=Inan|Case=Acc|Gender=Masc|Number=Sing\t2\tobj\t_\t_\n",
            "5\tи\tИ\tCCONJ\tCC\t_\t7\tcc\t_\t_\n",
            "6\tдетскую\tдетскую\tADJ\tJJL\tAnimacy=Inan|Case=Acc|Gender=Fem|Number=Sing\t7\tamod\t_\t_\n",
            "7\tплощадку\tПЛОЩАДКА\tNOUN\tNN\tAnimacy=Inan|Case=Acc|Gender=Fem|Number=Sing\t4\tconj\t_\tSpaceAfter=No\n",
            "8\t.\t.\tPUNCT\t.\t_\t2\tpunct\t_\tSpacesAfter=\\n\n",
            "\n",
            "\n"
          ],
          "name": "stdout"
        }
      ]
    },
    {
      "cell_type": "markdown",
      "metadata": {
        "id": "W2_EPaHpqrmH",
        "colab_type": "text"
      },
      "source": [
        "дефолтный теггинг иногда может быть ошибочным: теггер предсказывает морфологические свойства токена по последним четырем символам каждого слова. Он генерирует гипотезы относительно части речи и морфологических тегов этого слова, а затем отбирает лучший вариант. \n",
        "<br>\n",
        "*(можно улучшать качество, например, используя сторонний морфоанализатор и токенизатор, но это тема для отдельной пары, сегодня мы попробуем \"ванильный\" UDPipe)*"
      ]
    },
    {
      "cell_type": "markdown",
      "metadata": {
        "id": "rEiIcHJNV5vo",
        "colab_type": "text"
      },
      "source": [
        "## DeepPavlov"
      ]
    },
    {
      "cell_type": "markdown",
      "metadata": {
        "id": "r6Fw6SyPeQbu",
        "colab_type": "text"
      },
      "source": [
        "[DeepPavlov](http://docs.deeppavlov.ai/en/0.7.0/index.html) - это библиотека для решения различных NLP-задач от МФТИ, недавно они выкатили синтаксический анализатор\n",
        "\n",
        "[документация](http://docs.deeppavlov.ai/en/0.7.0/features/models/syntaxparser.html)\n",
        "\n",
        "модель выдает результат в CONLL-U формате и обучена на   [UD-трибанках](http://universaldependencies.org/format.html)"
      ]
    },
    {
      "cell_type": "code",
      "metadata": {
        "id": "U5ZF1umi518M",
        "colab_type": "code",
        "outputId": "0d84c0ca-4739-414c-94e5-9d19afc4bd46",
        "colab": {
          "base_uri": "https://localhost:8080/",
          "height": 1000
        }
      },
      "source": [
        "# установка (может быть долго)\n",
        "!pip3 install deeppavlov\n",
        "!pip3 install russian-tagsets\n",
        "!python -m deeppavlov install syntax_ru_syntagrus_bert"
      ],
      "execution_count": 41,
      "outputs": [
        {
          "output_type": "stream",
          "text": [
            "Requirement already satisfied: deeppavlov in /usr/local/lib/python3.6/dist-packages (0.7.1)\n",
            "Requirement already satisfied: pymorphy2-dicts-ru in /usr/local/lib/python3.6/dist-packages (from deeppavlov) (2.4.404381.4453942)\n",
            "Requirement already satisfied: scipy==1.3.0 in /usr/local/lib/python3.6/dist-packages (from deeppavlov) (1.3.0)\n",
            "Requirement already satisfied: fastapi==0.38.1 in /usr/local/lib/python3.6/dist-packages (from deeppavlov) (0.38.1)\n",
            "Requirement already satisfied: pymorphy2==0.8 in /usr/local/lib/python3.6/dist-packages (from deeppavlov) (0.8)\n",
            "Requirement already satisfied: numpy==1.16.4 in /usr/local/lib/python3.6/dist-packages (from deeppavlov) (1.16.4)\n",
            "Requirement already satisfied: pytelegrambotapi==3.6.6 in /usr/local/lib/python3.6/dist-packages (from deeppavlov) (3.6.6)\n",
            "Requirement already satisfied: keras==2.2.4 in /usr/local/lib/python3.6/dist-packages (from deeppavlov) (2.2.4)\n",
            "Requirement already satisfied: overrides==1.9 in /usr/local/lib/python3.6/dist-packages (from deeppavlov) (1.9)\n",
            "Requirement already satisfied: pandas==0.24.2 in /usr/local/lib/python3.6/dist-packages (from deeppavlov) (0.24.2)\n",
            "Requirement already satisfied: rusenttokenize==0.0.5 in /usr/local/lib/python3.6/dist-packages (from deeppavlov) (0.0.5)\n",
            "Requirement already satisfied: uvicorn==0.9.0 in /usr/local/lib/python3.6/dist-packages (from deeppavlov) (0.9.0)\n",
            "Requirement already satisfied: Cython==0.29.12 in /usr/local/lib/python3.6/dist-packages (from deeppavlov) (0.29.12)\n",
            "Requirement already satisfied: pyopenssl==19.0.0 in /usr/local/lib/python3.6/dist-packages (from deeppavlov) (19.0.0)\n",
            "Requirement already satisfied: tqdm==4.32.2 in /usr/local/lib/python3.6/dist-packages (from deeppavlov) (4.32.2)\n",
            "Requirement already satisfied: fuzzywuzzy==0.17.0 in /usr/local/lib/python3.6/dist-packages (from deeppavlov) (0.17.0)\n",
            "Requirement already satisfied: h5py==2.9.0 in /usr/local/lib/python3.6/dist-packages (from deeppavlov) (2.9.0)\n",
            "Requirement already satisfied: scikit-learn==0.21.2 in /usr/local/lib/python3.6/dist-packages (from deeppavlov) (0.21.2)\n",
            "Requirement already satisfied: nltk==3.2.5 in /usr/local/lib/python3.6/dist-packages (from deeppavlov) (3.2.5)\n",
            "Requirement already satisfied: requests==2.22.0 in /usr/local/lib/python3.6/dist-packages (from deeppavlov) (2.22.0)\n",
            "Requirement already satisfied: starlette<=0.12.8,>=0.11.1 in /usr/local/lib/python3.6/dist-packages (from fastapi==0.38.1->deeppavlov) (0.12.8)\n",
            "Requirement already satisfied: pydantic<=0.32.2,>=0.32.2 in /usr/local/lib/python3.6/dist-packages (from fastapi==0.38.1->deeppavlov) (0.32.2)\n",
            "Requirement already satisfied: docopt>=0.6 in /usr/local/lib/python3.6/dist-packages (from pymorphy2==0.8->deeppavlov) (0.6.2)\n",
            "Requirement already satisfied: dawg-python>=0.7 in /usr/local/lib/python3.6/dist-packages (from pymorphy2==0.8->deeppavlov) (0.7.2)\n",
            "Requirement already satisfied: pymorphy2-dicts<3.0,>=2.4 in /usr/local/lib/python3.6/dist-packages (from pymorphy2==0.8->deeppavlov) (2.4.393442.3710985)\n",
            "Requirement already satisfied: six in /usr/local/lib/python3.6/dist-packages (from pytelegrambotapi==3.6.6->deeppavlov) (1.12.0)\n",
            "Requirement already satisfied: pyyaml in /usr/local/lib/python3.6/dist-packages (from keras==2.2.4->deeppavlov) (3.13)\n",
            "Requirement already satisfied: keras-applications>=1.0.6 in /usr/local/lib/python3.6/dist-packages (from keras==2.2.4->deeppavlov) (1.0.8)\n",
            "Requirement already satisfied: keras-preprocessing>=1.0.5 in /usr/local/lib/python3.6/dist-packages (from keras==2.2.4->deeppavlov) (1.1.0)\n",
            "Requirement already satisfied: pytz>=2011k in /usr/local/lib/python3.6/dist-packages (from pandas==0.24.2->deeppavlov) (2018.9)\n",
            "Requirement already satisfied: python-dateutil>=2.5.0 in /usr/local/lib/python3.6/dist-packages (from pandas==0.24.2->deeppavlov) (2.6.1)\n",
            "Requirement already satisfied: uvloop==0.*; sys_platform != \"win32\" and sys_platform != \"cygwin\" and platform_python_implementation != \"pypy\" in /usr/local/lib/python3.6/dist-packages (from uvicorn==0.9.0->deeppavlov) (0.14.0)\n",
            "Requirement already satisfied: httptools==0.0.13; sys_platform != \"win32\" and sys_platform != \"cygwin\" and platform_python_implementation != \"pypy\" in /usr/local/lib/python3.6/dist-packages (from uvicorn==0.9.0->deeppavlov) (0.0.13)\n",
            "Requirement already satisfied: h11==0.8.* in /usr/local/lib/python3.6/dist-packages (from uvicorn==0.9.0->deeppavlov) (0.8.1)\n",
            "Requirement already satisfied: click==7.* in /usr/local/lib/python3.6/dist-packages (from uvicorn==0.9.0->deeppavlov) (7.0)\n",
            "Requirement already satisfied: websockets==8.* in /usr/local/lib/python3.6/dist-packages (from uvicorn==0.9.0->deeppavlov) (8.1)\n",
            "Requirement already satisfied: cryptography>=2.3 in /usr/local/lib/python3.6/dist-packages (from pyopenssl==19.0.0->deeppavlov) (2.8)\n",
            "Requirement already satisfied: joblib>=0.11 in /usr/local/lib/python3.6/dist-packages (from scikit-learn==0.21.2->deeppavlov) (0.14.0)\n",
            "Requirement already satisfied: urllib3!=1.25.0,!=1.25.1,<1.26,>=1.21.1 in /usr/local/lib/python3.6/dist-packages (from requests==2.22.0->deeppavlov) (1.24.3)\n",
            "Requirement already satisfied: idna<2.9,>=2.5 in /usr/local/lib/python3.6/dist-packages (from requests==2.22.0->deeppavlov) (2.8)\n",
            "Requirement already satisfied: certifi>=2017.4.17 in /usr/local/lib/python3.6/dist-packages (from requests==2.22.0->deeppavlov) (2019.11.28)\n",
            "Requirement already satisfied: chardet<3.1.0,>=3.0.2 in /usr/local/lib/python3.6/dist-packages (from requests==2.22.0->deeppavlov) (3.0.4)\n",
            "Requirement already satisfied: dataclasses>=0.6; python_version < \"3.7\" in /usr/local/lib/python3.6/dist-packages (from pydantic<=0.32.2,>=0.32.2->fastapi==0.38.1->deeppavlov) (0.7)\n",
            "Requirement already satisfied: cffi!=1.11.3,>=1.8 in /usr/local/lib/python3.6/dist-packages (from cryptography>=2.3->pyopenssl==19.0.0->deeppavlov) (1.13.2)\n",
            "Requirement already satisfied: pycparser in /usr/local/lib/python3.6/dist-packages (from cffi!=1.11.3,>=1.8->cryptography>=2.3->pyopenssl==19.0.0->deeppavlov) (2.19)\n",
            "Requirement already satisfied: russian-tagsets in /usr/local/lib/python3.6/dist-packages (0.6)\n",
            "email-validator not installed, email fields will be treated as str.\n",
            "To install, run: pip install email-validator\n",
            "2019-12-07 02:05:26.598 INFO in 'deeppavlov.core.common.file'['file'] at line 30: Interpreting 'syntax_ru_syntagrus_bert' as '/usr/local/lib/python3.6/dist-packages/deeppavlov/configs/syntax/syntax_ru_syntagrus_bert.json'\n",
            "Requirement already satisfied: tensorflow==1.14.0 in /usr/local/lib/python3.6/dist-packages (1.14.0)\n",
            "Requirement already satisfied: gast>=0.2.0 in /usr/local/lib/python3.6/dist-packages (from tensorflow==1.14.0) (0.2.2)\n",
            "Requirement already satisfied: absl-py>=0.7.0 in /usr/local/lib/python3.6/dist-packages (from tensorflow==1.14.0) (0.8.1)\n",
            "Requirement already satisfied: numpy<2.0,>=1.14.5 in /usr/local/lib/python3.6/dist-packages (from tensorflow==1.14.0) (1.16.4)\n",
            "Requirement already satisfied: wrapt>=1.11.1 in /usr/local/lib/python3.6/dist-packages (from tensorflow==1.14.0) (1.11.2)\n",
            "Requirement already satisfied: keras-preprocessing>=1.0.5 in /usr/local/lib/python3.6/dist-packages (from tensorflow==1.14.0) (1.1.0)\n",
            "Requirement already satisfied: grpcio>=1.8.6 in /usr/local/lib/python3.6/dist-packages (from tensorflow==1.14.0) (1.15.0)\n",
            "Requirement already satisfied: wheel>=0.26 in /usr/local/lib/python3.6/dist-packages (from tensorflow==1.14.0) (0.33.6)\n",
            "Requirement already satisfied: astor>=0.6.0 in /usr/local/lib/python3.6/dist-packages (from tensorflow==1.14.0) (0.8.0)\n",
            "Requirement already satisfied: google-pasta>=0.1.6 in /usr/local/lib/python3.6/dist-packages (from tensorflow==1.14.0) (0.1.8)\n",
            "Requirement already satisfied: tensorflow-estimator<1.15.0rc0,>=1.14.0rc0 in /usr/local/lib/python3.6/dist-packages (from tensorflow==1.14.0) (1.14.0)\n",
            "Requirement already satisfied: six>=1.10.0 in /usr/local/lib/python3.6/dist-packages (from tensorflow==1.14.0) (1.12.0)\n",
            "Requirement already satisfied: tensorboard<1.15.0,>=1.14.0 in /usr/local/lib/python3.6/dist-packages (from tensorflow==1.14.0) (1.14.0)\n",
            "Requirement already satisfied: termcolor>=1.1.0 in /usr/local/lib/python3.6/dist-packages (from tensorflow==1.14.0) (1.1.0)\n",
            "Requirement already satisfied: keras-applications>=1.0.6 in /usr/local/lib/python3.6/dist-packages (from tensorflow==1.14.0) (1.0.8)\n",
            "Requirement already satisfied: protobuf>=3.6.1 in /usr/local/lib/python3.6/dist-packages (from tensorflow==1.14.0) (3.10.0)\n",
            "Requirement already satisfied: setuptools>=41.0.0 in /usr/local/lib/python3.6/dist-packages (from tensorboard<1.15.0,>=1.14.0->tensorflow==1.14.0) (42.0.1)\n",
            "Requirement already satisfied: werkzeug>=0.11.15 in /usr/local/lib/python3.6/dist-packages (from tensorboard<1.15.0,>=1.14.0->tensorflow==1.14.0) (0.16.0)\n",
            "Requirement already satisfied: markdown>=2.6.8 in /usr/local/lib/python3.6/dist-packages (from tensorboard<1.15.0,>=1.14.0->tensorflow==1.14.0) (3.1.1)\n",
            "Requirement already satisfied: h5py in /usr/local/lib/python3.6/dist-packages (from keras-applications>=1.0.6->tensorflow==1.14.0) (2.9.0)\n",
            "Collecting git+https://github.com/deepmipt/bert.git@feat/multi_gpu\n",
            "  Cloning https://github.com/deepmipt/bert.git (to revision feat/multi_gpu) to /tmp/pip-req-build-y_kqpusg\n",
            "  Running command git clone -q https://github.com/deepmipt/bert.git /tmp/pip-req-build-y_kqpusg\n",
            "  Running command git checkout -b feat/multi_gpu --track origin/feat/multi_gpu\n",
            "  Switched to a new branch 'feat/multi_gpu'\n",
            "  Branch 'feat/multi_gpu' set up to track remote branch 'feat/multi_gpu' from 'origin'.\n",
            "Requirement already satisfied (use --upgrade to upgrade): bert-dp==1.0 from git+https://github.com/deepmipt/bert.git@feat/multi_gpu in /usr/local/lib/python3.6/dist-packages\n",
            "Building wheels for collected packages: bert-dp\n",
            "  Building wheel for bert-dp (setup.py) ... \u001b[?25l\u001b[?25hdone\n",
            "  Created wheel for bert-dp: filename=bert_dp-1.0-cp36-none-any.whl size=23580 sha256=15f5db584e456ceaf9e497a91c572a59034b6ce05b0b6b255dfb38b3d957cae6\n",
            "  Stored in directory: /tmp/pip-ephem-wheel-cache-e0mqp5x0/wheels/1e/41/94/886107eaf932532594886fd8bfc9cb9d4db632e94add49d326\n",
            "Successfully built bert-dp\n",
            "Collecting git+https://github.com/andersjo/dependency_decoding.git@79510908223b93bd4c1fb0409a2a66dd75577c2c\n",
            "  Cloning https://github.com/andersjo/dependency_decoding.git (to revision 79510908223b93bd4c1fb0409a2a66dd75577c2c) to /tmp/pip-req-build-1otz568d\n",
            "  Running command git clone -q https://github.com/andersjo/dependency_decoding.git /tmp/pip-req-build-1otz568d\n",
            "Requirement already satisfied (use --upgrade to upgrade): dependency-decoding==0.0.1 from git+https://github.com/andersjo/dependency_decoding.git@79510908223b93bd4c1fb0409a2a66dd75577c2c in /usr/local/lib/python3.6/dist-packages\n",
            "Building wheels for collected packages: dependency-decoding\n",
            "  Building wheel for dependency-decoding (setup.py) ... \u001b[?25l\u001b[?25hcanceled\n",
            "Traceback (most recent call last):\n",
            "  File \"/usr/lib/python3.6/subprocess.py\", line 289, in call\n",
            "    return p.wait(timeout=timeout)\n",
            "  File \"/usr/lib/python3.6/subprocess.py\", line 1477, in wait\n",
            "    (pid, sts) = self._try_wait(0)\n",
            "  File \"/usr/lib/python3.6/subprocess.py\", line 1424, in _try_wait\n",
            "    (pid, sts) = os.waitpid(self.pid, wait_flags)\n",
            "KeyboardInterrupt\n",
            "\n",
            "During handling of the above exception, another exception occurred:\n",
            "\n",
            "Traceback (most recent call last):\n",
            "  File \"/usr/lib/python3.6/runpy.py\", line 193, in _run_module_as_main\n",
            "    \"__main__\", mod_spec)\n",
            "  File \"/usr/lib/python3.6/runpy.py\", line 85, in _run_code\n",
            "    exec(code, run_globals)\n",
            "  File \"/usr/local/lib/python3.6/dist-packages/deeppavlov/__main__.py\", line 4, in <module>\n",
            "    main()\n",
            "  File \"/usr/local/lib/python3.6/dist-packages/deeppavlov/deep.py\", line 109, in main\n",
            "    install_from_config(pipeline_config_path)\n",
            "  File \"/usr/local/lib/python3.6/dist-packages/deeppavlov/utils/pip_wrapper/pip_wrapper.py\", line 58, in install_from_config\n",
            "    install(r)\n",
            "  File \"/usr/local/lib/python3.6/dist-packages/deeppavlov/utils/pip_wrapper/pip_wrapper.py\", line 37, in install\n",
            "    env=os.environ.copy())\n",
            "  File \"/usr/lib/python3.6/subprocess.py\", line 306, in check_call\n",
            "    retcode = call(*popenargs, **kwargs)\n",
            "  File \"/usr/lib/python3.6/subprocess.py\", line 292, in call\n",
            "    p.wait()\n",
            "  File \"/usr/lib/python3.6/subprocess.py\", line 1477, in wait\n",
            "    (pid, sts) = self._try_wait(0)\n",
            "  File \"/usr/lib/python3.6/subprocess.py\", line 1424, in _try_wait\n",
            "    (pid, sts) = os.waitpid(self.pid, wait_flags)\n",
            "KeyboardInterrupt\n"
          ],
          "name": "stdout"
        }
      ]
    },
    {
      "cell_type": "code",
      "metadata": {
        "id": "RkjLH4Sw6A5Q",
        "colab_type": "code",
        "outputId": "ab5b7a9f-5c44-4856-9d5e-f30b2c1468da",
        "colab": {
          "base_uri": "https://localhost:8080/",
          "height": 241
        }
      },
      "source": [
        "# импортим модель (здесь тоже долго..)\n",
        "from deeppavlov import build_model, configs \n",
        "dpavlov_model = build_model(\"ru_syntagrus_joint_parsing\", download=True)"
      ],
      "execution_count": 42,
      "outputs": [
        {
          "output_type": "stream",
          "text": [
            "2019-12-07 02:06:02.563 INFO in 'deeppavlov.core.common.file'['file'] at line 30: Interpreting 'ru_syntagrus_joint_parsing' as '/usr/local/lib/python3.6/dist-packages/deeppavlov/configs/syntax/ru_syntagrus_joint_parsing.json'\n",
            "2019-12-07 02:06:04.627 INFO in 'deeppavlov.download'['download'] at line 117: Skipped http://files.deeppavlov.ai/deeppavlov_data/syntax_parser/syntax_ru_syntagrus_bert.tar.gz download because of matching hashes\n",
            "2019-12-07 02:06:06.494 INFO in 'deeppavlov.download'['download'] at line 117: Skipped http://files.deeppavlov.ai/deeppavlov_data/bert/rubert_cased_L-12_H-768_A-12_v1.tar.gz download because of matching hashes\n",
            "2019-12-07 02:06:07.79 INFO in 'deeppavlov.download'['download'] at line 117: Skipped http://files.deeppavlov.ai/deeppavlov_data/morpho_tagger/UD2.3/ru_syntagrus.tar.gz download because of matching hashes\n",
            "2019-12-07 02:06:08.863 INFO in 'deeppavlov.download'['download'] at line 117: Skipped http://files.deeppavlov.ai/deeppavlov_data/morpho_tagger/BERT/morpho_ru_syntagrus_bert.tar.gz download because of matching hashes\n",
            "2019-12-07 02:06:09.266 INFO in 'deeppavlov.core.data.simple_vocab'['simple_vocab'] at line 115: [loading vocabulary from /root/.deeppavlov/models/morpho_ru_syntagrus/tag.dict]\n",
            "2019-12-07 02:06:28.471 INFO in 'deeppavlov.core.models.tf_model'['tf_model'] at line 51: [loading model from /root/.deeppavlov/models/morpho_ru_syntagrus/model]\n"
          ],
          "name": "stderr"
        },
        {
          "output_type": "stream",
          "text": [
            "INFO:tensorflow:Restoring parameters from /root/.deeppavlov/models/morpho_ru_syntagrus/model\n"
          ],
          "name": "stdout"
        },
        {
          "output_type": "stream",
          "text": [
            "2019-12-07 02:06:30.166 WARNING in 'deeppavlov.core.models.serializable'['serializable'] at line 52: No load path is set for UDPymorphyLemmatizer!\n",
            "2019-12-07 02:06:30.589 INFO in 'deeppavlov.core.data.simple_vocab'['simple_vocab'] at line 115: [loading vocabulary from /root/.deeppavlov/models/syntax_ru_syntagrus/deps.dict]\n",
            "2019-12-07 02:06:57.868 INFO in 'deeppavlov.core.models.tf_model'['tf_model'] at line 51: [loading model from /root/.deeppavlov/models/syntax_ru_syntagrus/model_joint]\n"
          ],
          "name": "stderr"
        },
        {
          "output_type": "stream",
          "text": [
            "INFO:tensorflow:Restoring parameters from /root/.deeppavlov/models/syntax_ru_syntagrus/model_joint\n"
          ],
          "name": "stdout"
        }
      ]
    },
    {
      "cell_type": "code",
      "metadata": {
        "id": "BIYZvgs--OiP",
        "colab_type": "code",
        "outputId": "595bd612-6e2c-44b1-8abc-d261c5451078",
        "colab": {
          "base_uri": "https://localhost:8080/",
          "height": 173
        }
      },
      "source": [
        "sentences = [\"Собянин открыл новый парк и детскую площадку.\"]\n",
        "#model['main'].to_output_string = False\n",
        "#model['main'].output_format = 'dict'\n",
        "\n",
        "for parse in dpavlov_model(sentences): # аргумент должен быть списком\n",
        "    print(parse)"
      ],
      "execution_count": 130,
      "outputs": [
        {
          "output_type": "stream",
          "text": [
            "1\tСобянин\tсобянин\tPROPN\t_\tAnimacy=Anim|Case=Nom|Gender=Masc|Number=Sing\t2\tnsubj\t_\t_\n",
            "2\tоткрыл\tоткрыть\tVERB\t_\tAspect=Perf|Gender=Masc|Mood=Ind|Number=Sing|Tense=Past|VerbForm=Fin|Voice=Act\t0\troot\t_\t_\n",
            "3\tновый\tновый\tADJ\t_\tAnimacy=Inan|Case=Acc|Degree=Pos|Gender=Masc|Number=Sing\t4\tamod\t_\t_\n",
            "4\tпарк\tпарк\tNOUN\t_\tAnimacy=Inan|Case=Acc|Gender=Masc|Number=Sing\t2\tobj\t_\t_\n",
            "5\tи\tи\tCCONJ\t_\t_\t7\tcc\t_\t_\n",
            "6\tдетскую\tдетский\tADJ\t_\tCase=Acc|Degree=Pos|Gender=Fem|Number=Sing\t7\tamod\t_\t_\n",
            "7\tплощадку\tплощадка\tNOUN\t_\tAnimacy=Inan|Case=Acc|Gender=Fem|Number=Sing\t4\tconj\t_\t_\n",
            "8\t.\t.\tPUNCT\t_\t_\t2\tpunct\t_\t_\n"
          ],
          "name": "stdout"
        }
      ]
    },
    {
      "cell_type": "markdown",
      "metadata": {
        "collapsed": true,
        "id": "ffOK_R3a9tHL",
        "colab_type": "text"
      },
      "source": [
        "# способы применения\n",
        "Зачем нужен синтаксический парсинг? \n",
        "\n",
        "Например, с помощью него можно находить в предложениях тройки субъект-глагол-объект, которые можно использовать для извлечения информации из текста."
      ]
    },
    {
      "cell_type": "markdown",
      "metadata": {
        "colab_type": "text",
        "id": "C2TajWLrJBUh"
      },
      "source": [
        "**визуализация**"
      ]
    },
    {
      "cell_type": "markdown",
      "metadata": {
        "colab_type": "text",
        "id": "ciX5remQJAkY"
      },
      "source": [
        "В nltk есть DependencyGraph, который умеет рисовать деревья (и ещё многое другое). Для того, чтобы визуализация работала корректно, ему нужна зависимость: graphviz."
      ]
    },
    {
      "cell_type": "code",
      "metadata": {
        "colab_type": "code",
        "outputId": "871ab568-7552-4966-8878-552e4489813d",
        "id": "htYoQ77NI-q-",
        "colab": {
          "base_uri": "https://localhost:8080/",
          "height": 34
        }
      },
      "source": [
        "! pip3 install graphviz"
      ],
      "execution_count": 0,
      "outputs": [
        {
          "output_type": "stream",
          "text": [
            "Requirement already satisfied: graphviz in /usr/local/lib/python3.6/dist-packages (0.10.1)\n"
          ],
          "name": "stdout"
        }
      ]
    },
    {
      "cell_type": "code",
      "metadata": {
        "colab_type": "code",
        "id": "YHUFaDxzI99o",
        "colab": {}
      },
      "source": [
        "from nltk import DependencyGraph"
      ],
      "execution_count": 0,
      "outputs": []
    },
    {
      "cell_type": "markdown",
      "metadata": {
        "colab_type": "text",
        "id": "grvoBcepI9PJ"
      },
      "source": [
        "Для построения дерева нам нужно преврать файл в conllu-формате в список\n",
        "<br> \n",
        "Еще нужно сделать тег ROOT в верхнем регистре, иначе он не находится\n",
        "\n",
        "Создадим функцию, которую попробуем на результате UDPipe и на результате DeepPavlov"
      ]
    },
    {
      "cell_type": "code",
      "metadata": {
        "id": "-I8xJDF9KVKZ",
        "colab_type": "code",
        "colab": {}
      },
      "source": [
        "def conllu_to_list(parser_result): # аргумент - это conllu-файл, который получили в результате синтаксического анализа \n",
        "    sents = []\n",
        "    for sent in parser_result.split('\\n\\n'):\n",
        "        # убираем коменты\n",
        "        sent = '\\n'.join([line for line in sent.split('\\n') if not line.startswith('#')])\n",
        "        # заменяем регистр для root\n",
        "        sent = sent.replace('\\troot\\t', '\\tROOT\\t')\n",
        "        sents.append(sent)\n",
        "        return sents"
      ],
      "execution_count": 0,
      "outputs": []
    },
    {
      "cell_type": "markdown",
      "metadata": {
        "id": "j4KQhGTXQhbc",
        "colab_type": "text"
      },
      "source": [
        "## для UDPipe"
      ]
    },
    {
      "cell_type": "code",
      "metadata": {
        "id": "fDB1dSkDLtSw",
        "colab_type": "code",
        "colab": {}
      },
      "source": [
        "# вызовем для результата UDPipe:\n",
        "\n",
        "ud = conllu_to_list(parsed)"
      ],
      "execution_count": 0,
      "outputs": []
    },
    {
      "cell_type": "code",
      "metadata": {
        "colab_type": "code",
        "outputId": "8c7ee802-9ef2-4458-80c5-0369a2115631",
        "id": "QEomREGuI7dT",
        "colab": {
          "base_uri": "https://localhost:8080/",
          "height": 544
        }
      },
      "source": [
        "# нарисуем граф для UDPipe\n",
        "ud_graph = DependencyGraph(tree_str=ud[0])\n",
        "ud_graph"
      ],
      "execution_count": 0,
      "outputs": [
        {
          "output_type": "execute_result",
          "data": {
            "text/plain": [
              "<DependencyGraph with 9 nodes>"
            ],
            "image/svg+xml": "<?xml version=\"1.0\" encoding=\"UTF-8\" standalone=\"no\"?>\n<!DOCTYPE svg PUBLIC \"-//W3C//DTD SVG 1.1//EN\"\n \"http://www.w3.org/Graphics/SVG/1.1/DTD/svg11.dtd\">\n<!-- Generated by graphviz version 2.40.1 (20161225.0304)\n -->\n<!-- Title: G Pages: 1 -->\n<svg width=\"302pt\" height=\"392pt\"\n viewBox=\"0.00 0.00 302.00 392.00\" xmlns=\"http://www.w3.org/2000/svg\" xmlns:xlink=\"http://www.w3.org/1999/xlink\">\n<g id=\"graph0\" class=\"graph\" transform=\"scale(1 1) rotate(0) translate(4 388)\">\n<title>G</title>\n<polygon fill=\"#ffffff\" stroke=\"transparent\" points=\"-4,4 -4,-388 298,-388 298,4 -4,4\"/>\n<!-- 0 -->\n<g id=\"node1\" class=\"node\">\n<title>0</title>\n<text text-anchor=\"middle\" x=\"141.5\" y=\"-362.3\" font-family=\"Times,serif\" font-size=\"14.00\" fill=\"#000000\">0 (None)</text>\n</g>\n<!-- 2 -->\n<g id=\"node2\" class=\"node\">\n<title>2</title>\n<text text-anchor=\"middle\" x=\"141.5\" y=\"-275.3\" font-family=\"Times,serif\" font-size=\"14.00\" fill=\"#000000\">2 (открыл)</text>\n</g>\n<!-- 0&#45;&gt;2 -->\n<g id=\"edge1\" class=\"edge\">\n<title>0&#45;&gt;2</title>\n<path fill=\"none\" stroke=\"#000000\" d=\"M141.5,-347.9735C141.5,-336.1918 141.5,-320.5607 141.5,-307.1581\"/>\n<polygon fill=\"#000000\" stroke=\"#000000\" points=\"145.0001,-307.0033 141.5,-297.0034 138.0001,-307.0034 145.0001,-307.0033\"/>\n<text text-anchor=\"middle\" x=\"161.5\" y=\"-318.8\" font-family=\"Times,serif\" font-size=\"14.00\" fill=\"#000000\">ROOT</text>\n</g>\n<!-- 1 -->\n<g id=\"node3\" class=\"node\">\n<title>1</title>\n<text text-anchor=\"middle\" x=\"45.5\" y=\"-188.3\" font-family=\"Times,serif\" font-size=\"14.00\" fill=\"#000000\">1 (Собянин)</text>\n</g>\n<!-- 2&#45;&gt;1 -->\n<g id=\"edge2\" class=\"edge\">\n<title>2&#45;&gt;1</title>\n<path fill=\"none\" stroke=\"#000000\" d=\"M121.6087,-260.9735C107.5784,-248.2586 88.601,-231.0603 73.1064,-217.0183\"/>\n<polygon fill=\"#000000\" stroke=\"#000000\" points=\"75.126,-214.1251 65.3658,-210.0034 70.4253,-219.3121 75.126,-214.1251\"/>\n<text text-anchor=\"middle\" x=\"115.5\" y=\"-231.8\" font-family=\"Times,serif\" font-size=\"14.00\" fill=\"#000000\">nsubj</text>\n</g>\n<!-- 4 -->\n<g id=\"node4\" class=\"node\">\n<title>4</title>\n<text text-anchor=\"middle\" x=\"141.5\" y=\"-188.3\" font-family=\"Times,serif\" font-size=\"14.00\" fill=\"#000000\">4 (парк)</text>\n</g>\n<!-- 2&#45;&gt;4 -->\n<g id=\"edge3\" class=\"edge\">\n<title>2&#45;&gt;4</title>\n<path fill=\"none\" stroke=\"#000000\" d=\"M141.5,-260.9735C141.5,-249.1918 141.5,-233.5607 141.5,-220.1581\"/>\n<polygon fill=\"#000000\" stroke=\"#000000\" points=\"145.0001,-220.0033 141.5,-210.0034 138.0001,-220.0034 145.0001,-220.0033\"/>\n<text text-anchor=\"middle\" x=\"151\" y=\"-231.8\" font-family=\"Times,serif\" font-size=\"14.00\" fill=\"#000000\">obj</text>\n</g>\n<!-- 8 -->\n<g id=\"node5\" class=\"node\">\n<title>8</title>\n<text text-anchor=\"middle\" x=\"219.5\" y=\"-188.3\" font-family=\"Times,serif\" font-size=\"14.00\" fill=\"#000000\">8 (.)</text>\n</g>\n<!-- 2&#45;&gt;8 -->\n<g id=\"edge4\" class=\"edge\">\n<title>2&#45;&gt;8</title>\n<path fill=\"none\" stroke=\"#000000\" d=\"M157.6617,-260.9735C168.8521,-248.4919 183.9159,-231.6899 196.374,-217.7944\"/>\n<polygon fill=\"#000000\" stroke=\"#000000\" points=\"199.2896,-219.7855 203.3591,-210.0034 194.0776,-215.1127 199.2896,-219.7855\"/>\n<text text-anchor=\"middle\" x=\"202\" y=\"-231.8\" font-family=\"Times,serif\" font-size=\"14.00\" fill=\"#000000\">punct</text>\n</g>\n<!-- 3 -->\n<g id=\"node6\" class=\"node\">\n<title>3</title>\n<text text-anchor=\"middle\" x=\"101.5\" y=\"-101.3\" font-family=\"Times,serif\" font-size=\"14.00\" fill=\"#000000\">3 (новый)</text>\n</g>\n<!-- 4&#45;&gt;3 -->\n<g id=\"edge5\" class=\"edge\">\n<title>4&#45;&gt;3</title>\n<path fill=\"none\" stroke=\"#000000\" d=\"M133.212,-173.9735C127.6878,-161.9585 120.323,-145.9401 114.0814,-132.3646\"/>\n<polygon fill=\"#000000\" stroke=\"#000000\" points=\"117.1348,-130.627 109.7774,-123.0034 110.7748,-133.5512 117.1348,-130.627\"/>\n<text text-anchor=\"middle\" x=\"141\" y=\"-144.8\" font-family=\"Times,serif\" font-size=\"14.00\" fill=\"#000000\">amod</text>\n</g>\n<!-- 7 -->\n<g id=\"node7\" class=\"node\">\n<title>7</title>\n<text text-anchor=\"middle\" x=\"206.5\" y=\"-101.3\" font-family=\"Times,serif\" font-size=\"14.00\" fill=\"#000000\">7 (площадку)</text>\n</g>\n<!-- 4&#45;&gt;7 -->\n<g id=\"edge6\" class=\"edge\">\n<title>4&#45;&gt;7</title>\n<path fill=\"none\" stroke=\"#000000\" d=\"M154.968,-173.9735C164.2063,-161.6085 176.6123,-145.0036 186.9367,-131.1847\"/>\n<polygon fill=\"#000000\" stroke=\"#000000\" points=\"189.8678,-133.1093 193.0492,-123.0034 184.26,-128.9196 189.8678,-133.1093\"/>\n<text text-anchor=\"middle\" x=\"191\" y=\"-144.8\" font-family=\"Times,serif\" font-size=\"14.00\" fill=\"#000000\">conj</text>\n</g>\n<!-- 5 -->\n<g id=\"node8\" class=\"node\">\n<title>5</title>\n<text text-anchor=\"middle\" x=\"161.5\" y=\"-14.3\" font-family=\"Times,serif\" font-size=\"14.00\" fill=\"#000000\">5 (и)</text>\n</g>\n<!-- 7&#45;&gt;5 -->\n<g id=\"edge7\" class=\"edge\">\n<title>7&#45;&gt;5</title>\n<path fill=\"none\" stroke=\"#000000\" d=\"M197.176,-86.9735C190.9009,-74.8418 182.5148,-58.6287 175.4499,-44.9698\"/>\n<polygon fill=\"#000000\" stroke=\"#000000\" points=\"178.5151,-43.2776 170.8121,-36.0034 172.2976,-46.4935 178.5151,-43.2776\"/>\n<text text-anchor=\"middle\" x=\"194\" y=\"-57.8\" font-family=\"Times,serif\" font-size=\"14.00\" fill=\"#000000\">cc</text>\n</g>\n<!-- 6 -->\n<g id=\"node9\" class=\"node\">\n<title>6</title>\n<text text-anchor=\"middle\" x=\"250.5\" y=\"-14.3\" font-family=\"Times,serif\" font-size=\"14.00\" fill=\"#000000\">6 (детскую)</text>\n</g>\n<!-- 7&#45;&gt;6 -->\n<g id=\"edge8\" class=\"edge\">\n<title>7&#45;&gt;6</title>\n<path fill=\"none\" stroke=\"#000000\" d=\"M215.6168,-86.9735C221.7524,-74.8418 229.9522,-58.6287 236.8601,-44.9698\"/>\n<polygon fill=\"#000000\" stroke=\"#000000\" points=\"240.005,-46.5066 241.3949,-36.0034 233.7584,-43.3474 240.005,-46.5066\"/>\n<text text-anchor=\"middle\" x=\"248\" y=\"-57.8\" font-family=\"Times,serif\" font-size=\"14.00\" fill=\"#000000\">amod</text>\n</g>\n</g>\n</svg>\n"
          },
          "metadata": {
            "tags": []
          },
          "execution_count": 78
        }
      ]
    },
    {
      "cell_type": "code",
      "metadata": {
        "colab_type": "code",
        "outputId": "4a3daa4f-bb7a-4ad5-d8d4-38e685242883",
        "id": "zIG1or5OI6ck",
        "colab": {
          "base_uri": "https://localhost:8080/",
          "height": 136
        }
      },
      "source": [
        "# посмотрим, на что вообще можно разбить предложение\n",
        "list(ud_graph.triples())"
      ],
      "execution_count": 0,
      "outputs": [
        {
          "output_type": "execute_result",
          "data": {
            "text/plain": [
              "[(('открыл', 'VERB'), 'nsubj', ('Собянин', 'PROPN')),\n",
              " (('открыл', 'VERB'), 'obj', ('парк', 'NOUN')),\n",
              " (('парк', 'NOUN'), 'amod', ('новый', 'ADJ')),\n",
              " (('парк', 'NOUN'), 'conj', ('площадку', 'NOUN')),\n",
              " (('площадку', 'NOUN'), 'cc', ('и', 'CCONJ')),\n",
              " (('площадку', 'NOUN'), 'amod', ('детскую', 'ADJ')),\n",
              " (('открыл', 'VERB'), 'punct', ('.', 'PUNCT'))]"
            ]
          },
          "metadata": {
            "tags": []
          },
          "execution_count": 80
        }
      ]
    },
    {
      "cell_type": "code",
      "metadata": {
        "colab_type": "code",
        "outputId": "25ff7648-d24d-42f4-e900-23796eae9dd8",
        "id": "0IE44qCEI5hJ",
        "colab": {
          "base_uri": "https://localhost:8080/",
          "height": 170
        }
      },
      "source": [
        "# еще один способ визуализации дерева\n",
        "ud_tree = ud_graph.tree()\n",
        "print(ud_tree.pretty_print())"
      ],
      "execution_count": 0,
      "outputs": [
        {
          "output_type": "stream",
          "text": [
            "            открыл                      \n",
            "    __________|_____                     \n",
            "   |     |         парк                 \n",
            "   |     |     _____|______              \n",
            "   |     |    |         площадку        \n",
            "   |     |    |      ______|________     \n",
            "Собянин  .  новый   и            детскую\n",
            "\n",
            "None\n"
          ],
          "name": "stdout"
        }
      ]
    },
    {
      "cell_type": "markdown",
      "metadata": {
        "colab_type": "text",
        "id": "mw-xsbbRReBb"
      },
      "source": [
        "**Тройки глагол-объект-субьект:**"
      ]
    },
    {
      "cell_type": "markdown",
      "metadata": {
        "colab_type": "text",
        "id": "ZbyRYI1NReBd"
      },
      "source": [
        "Предположим, нам нужно вытащить только ту тройку, которая расскажет о предикате(сказуемом), субъекте(подлежащем) и объекте(дополнении)"
      ]
    },
    {
      "cell_type": "code",
      "metadata": {
        "colab_type": "code",
        "outputId": "e0e1d782-d008-43e3-e16d-dab67bb9d439",
        "id": "eiNpunK7ReBe",
        "colab": {
          "base_uri": "https://localhost:8080/",
          "height": 34
        }
      },
      "source": [
        "def get_sov(sent): # зададим функцию, которая будет вытаскивать нужную тройку\n",
        "    graph = DependencyGraph(tree_str=ud[0])\n",
        "    #ud_graph = DependencyGraph(tree_str=ud[0]) \n",
        "    sov = {} # пустой словарь, будем в него складывать\n",
        "    for triple in graph.triples(): # для каждого триплета из всех\n",
        "        if triple:\n",
        "            if triple[0][1] == 'VERB': # если тег первого элемента - VERB\n",
        "                sov[triple[0][0]] = {'subj':'','obj':''}\n",
        "    for triple in graph.triples():\n",
        "        if triple:\n",
        "            if triple[1] == 'nsubj':\n",
        "                if triple[0][1] == 'VERB':\n",
        "                    sov[triple[0][0]]['subj']  = triple[2][0]\n",
        "            if triple[1] == 'obj':\n",
        "                if triple[0][1] == 'VERB':\n",
        "                    sov[triple[0][0]]['obj'] = triple[2][0]\n",
        "    return sov\n",
        "\n",
        "sov = get_sov(sent)\n",
        "print(sov)"
      ],
      "execution_count": 118,
      "outputs": [
        {
          "output_type": "stream",
          "text": [
            "{'открыл': {'subj': 'Собянин', 'obj': 'парк'}}\n"
          ],
          "name": "stdout"
        }
      ]
    },
    {
      "cell_type": "markdown",
      "metadata": {
        "id": "cG_jarktX68x",
        "colab_type": "text"
      },
      "source": [
        "улучшим функцию, теперь она находит однородные дополнения *(парк и площадку)*"
      ]
    },
    {
      "cell_type": "code",
      "metadata": {
        "id": "A9DDccNEXrsT",
        "colab_type": "code",
        "colab": {
          "base_uri": "https://localhost:8080/",
          "height": 88
        },
        "outputId": "f356311b-d2c5-4efc-fa60-658939021cbc"
      },
      "source": [
        "from collections import defaultdict as dd\n",
        "\n",
        "\n",
        "def get_sov(sent):\n",
        "    graph = DependencyGraph(tree_str=ud[0])\n",
        "\n",
        "    subjects = dd(lambda : {\"subject\": \"\", \"verb\": \"\", \"objects\": []})\n",
        "    verbs = dd(lambda : {\"subject\": \"\", \"verb\": \"\", \"objects\": []})\n",
        "    \n",
        "    for triple in graph.triples():\n",
        "        if triple:\n",
        "            \n",
        "            if triple[1] == 'conj':\n",
        "                subjects[triple[0][0]][\"objects\"].append(triple[2][0])\n",
        "                \n",
        "            if triple[1] == 'nsubj':\n",
        "                if triple[0][1] == 'VERB':\n",
        "                    verbs[triple[0][0]][\"subject\"] = triple[2][0]\n",
        "            if triple[1] == 'obj':\n",
        "                if triple[0][1] == 'VERB':\n",
        "                    subjects[triple[2][0]][\"verb\"] = triple[0][0]\n",
        "                    subjects[triple[2][0]][\"objects\"].append(triple[2][0])\n",
        "\n",
        "    \n",
        "    sovs = []\n",
        "\n",
        "    print(subjects, verbs)\n",
        "    \n",
        "    for v in subjects.values():\n",
        "        for obj in v[\"objects\"]:\n",
        "            sovs.append((verbs[v[\"verb\"]][\"subject\"], v[\"verb\"], obj))\n",
        "    return sovs\n",
        "\n",
        "sov = get_sov(sent)\n",
        "print(\"\\n\",sov[-2:])"
      ],
      "execution_count": 129,
      "outputs": [
        {
          "output_type": "stream",
          "text": [
            "defaultdict(<function get_sov.<locals>.<lambda> at 0x7f96b56b4840>, {'парк': {'subject': '', 'verb': 'открыл', 'objects': ['парк', 'площадку']}}) defaultdict(<function get_sov.<locals>.<lambda> at 0x7f96b56b41e0>, {'открыл': {'subject': 'Собянин', 'verb': '', 'objects': []}})\n",
            "\n",
            " [('Собянин', 'открыл', 'парк'), ('Собянин', 'открыл', 'площадку')]\n"
          ],
          "name": "stdout"
        }
      ]
    },
    {
      "cell_type": "markdown",
      "metadata": {
        "id": "CTls7y3gQrTG",
        "colab_type": "text"
      },
      "source": [
        "## для DeepPavlov"
      ]
    },
    {
      "cell_type": "code",
      "metadata": {
        "id": "xELIAthEMcZt",
        "colab_type": "code",
        "colab": {}
      },
      "source": [
        "#теперь - для deeppavlov\n",
        "dp = conllu_to_list(dpavlov_model(sentences)[0])"
      ],
      "execution_count": 0,
      "outputs": []
    },
    {
      "cell_type": "code",
      "metadata": {
        "id": "OtZbWi4QSjm3",
        "colab_type": "code",
        "colab": {
          "base_uri": "https://localhost:8080/",
          "height": 54
        },
        "outputId": "6b38f70a-147a-41a1-d3ef-be80cd125217"
      },
      "source": [
        "dp[0]"
      ],
      "execution_count": 91,
      "outputs": [
        {
          "output_type": "execute_result",
          "data": {
            "text/plain": [
              "'1\\tСобянин\\tсобянин\\tPROPN\\t_\\tAnimacy=Anim|Case=Nom|Gender=Masc|Number=Sing\\t2\\tnsubj\\t_\\t_\\n2\\tоткрыл\\tоткрыть\\tVERB\\t_\\tAspect=Perf|Gender=Masc|Mood=Ind|Number=Sing|Tense=Past|VerbForm=Fin|Voice=Act\\t0\\tROOT\\t_\\t_\\n3\\tновый\\tновый\\tADJ\\t_\\tAnimacy=Inan|Case=Acc|Degree=Pos|Gender=Masc|Number=Sing\\t4\\tamod\\t_\\t_\\n4\\tпарк\\tпарк\\tNOUN\\t_\\tAnimacy=Inan|Case=Acc|Gender=Masc|Number=Sing\\t2\\tobj\\t_\\t_\\n5\\tи\\tи\\tCCONJ\\t_\\t_\\t7\\tcc\\t_\\t_\\n6\\tдетскую\\tдетский\\tADJ\\t_\\tCase=Acc|Degree=Pos|Gender=Fem|Number=Sing\\t7\\tamod\\t_\\t_\\n7\\tплощадку\\tплощадка\\tNOUN\\t_\\tAnimacy=Inan|Case=Acc|Gender=Fem|Number=Sing\\t4\\tconj\\t_\\t_\\n8\\t.\\t.\\tPUNCT\\t_\\t_\\t2\\tpunct\\t_\\t_'"
            ]
          },
          "metadata": {
            "tags": []
          },
          "execution_count": 91
        }
      ]
    },
    {
      "cell_type": "code",
      "metadata": {
        "id": "VK82RUucPBm9",
        "colab_type": "code",
        "colab": {
          "base_uri": "https://localhost:8080/",
          "height": 544
        },
        "outputId": "b566f23f-a783-4ad9-dd12-883bb4a1eb1d"
      },
      "source": [
        "# нарисуем граф для DeepPavlov\n",
        "dp_graph = DependencyGraph(tree_str=dp[0])\n",
        "dp_graph"
      ],
      "execution_count": 79,
      "outputs": [
        {
          "output_type": "execute_result",
          "data": {
            "text/plain": [
              "<DependencyGraph with 9 nodes>"
            ],
            "image/svg+xml": "<?xml version=\"1.0\" encoding=\"UTF-8\" standalone=\"no\"?>\n<!DOCTYPE svg PUBLIC \"-//W3C//DTD SVG 1.1//EN\"\n \"http://www.w3.org/Graphics/SVG/1.1/DTD/svg11.dtd\">\n<!-- Generated by graphviz version 2.40.1 (20161225.0304)\n -->\n<!-- Title: G Pages: 1 -->\n<svg width=\"302pt\" height=\"392pt\"\n viewBox=\"0.00 0.00 302.00 392.00\" xmlns=\"http://www.w3.org/2000/svg\" xmlns:xlink=\"http://www.w3.org/1999/xlink\">\n<g id=\"graph0\" class=\"graph\" transform=\"scale(1 1) rotate(0) translate(4 388)\">\n<title>G</title>\n<polygon fill=\"#ffffff\" stroke=\"transparent\" points=\"-4,4 -4,-388 298,-388 298,4 -4,4\"/>\n<!-- 0 -->\n<g id=\"node1\" class=\"node\">\n<title>0</title>\n<text text-anchor=\"middle\" x=\"141.5\" y=\"-362.3\" font-family=\"Times,serif\" font-size=\"14.00\" fill=\"#000000\">0 (None)</text>\n</g>\n<!-- 2 -->\n<g id=\"node2\" class=\"node\">\n<title>2</title>\n<text text-anchor=\"middle\" x=\"141.5\" y=\"-275.3\" font-family=\"Times,serif\" font-size=\"14.00\" fill=\"#000000\">2 (открыл)</text>\n</g>\n<!-- 0&#45;&gt;2 -->\n<g id=\"edge1\" class=\"edge\">\n<title>0&#45;&gt;2</title>\n<path fill=\"none\" stroke=\"#000000\" d=\"M141.5,-347.9735C141.5,-336.1918 141.5,-320.5607 141.5,-307.1581\"/>\n<polygon fill=\"#000000\" stroke=\"#000000\" points=\"145.0001,-307.0033 141.5,-297.0034 138.0001,-307.0034 145.0001,-307.0033\"/>\n<text text-anchor=\"middle\" x=\"161.5\" y=\"-318.8\" font-family=\"Times,serif\" font-size=\"14.00\" fill=\"#000000\">ROOT</text>\n</g>\n<!-- 1 -->\n<g id=\"node3\" class=\"node\">\n<title>1</title>\n<text text-anchor=\"middle\" x=\"45.5\" y=\"-188.3\" font-family=\"Times,serif\" font-size=\"14.00\" fill=\"#000000\">1 (Собянин)</text>\n</g>\n<!-- 2&#45;&gt;1 -->\n<g id=\"edge2\" class=\"edge\">\n<title>2&#45;&gt;1</title>\n<path fill=\"none\" stroke=\"#000000\" d=\"M121.6087,-260.9735C107.5784,-248.2586 88.601,-231.0603 73.1064,-217.0183\"/>\n<polygon fill=\"#000000\" stroke=\"#000000\" points=\"75.126,-214.1251 65.3658,-210.0034 70.4253,-219.3121 75.126,-214.1251\"/>\n<text text-anchor=\"middle\" x=\"115.5\" y=\"-231.8\" font-family=\"Times,serif\" font-size=\"14.00\" fill=\"#000000\">nsubj</text>\n</g>\n<!-- 4 -->\n<g id=\"node4\" class=\"node\">\n<title>4</title>\n<text text-anchor=\"middle\" x=\"141.5\" y=\"-188.3\" font-family=\"Times,serif\" font-size=\"14.00\" fill=\"#000000\">4 (парк)</text>\n</g>\n<!-- 2&#45;&gt;4 -->\n<g id=\"edge3\" class=\"edge\">\n<title>2&#45;&gt;4</title>\n<path fill=\"none\" stroke=\"#000000\" d=\"M141.5,-260.9735C141.5,-249.1918 141.5,-233.5607 141.5,-220.1581\"/>\n<polygon fill=\"#000000\" stroke=\"#000000\" points=\"145.0001,-220.0033 141.5,-210.0034 138.0001,-220.0034 145.0001,-220.0033\"/>\n<text text-anchor=\"middle\" x=\"151\" y=\"-231.8\" font-family=\"Times,serif\" font-size=\"14.00\" fill=\"#000000\">obj</text>\n</g>\n<!-- 8 -->\n<g id=\"node5\" class=\"node\">\n<title>8</title>\n<text text-anchor=\"middle\" x=\"219.5\" y=\"-188.3\" font-family=\"Times,serif\" font-size=\"14.00\" fill=\"#000000\">8 (.)</text>\n</g>\n<!-- 2&#45;&gt;8 -->\n<g id=\"edge4\" class=\"edge\">\n<title>2&#45;&gt;8</title>\n<path fill=\"none\" stroke=\"#000000\" d=\"M157.6617,-260.9735C168.8521,-248.4919 183.9159,-231.6899 196.374,-217.7944\"/>\n<polygon fill=\"#000000\" stroke=\"#000000\" points=\"199.2896,-219.7855 203.3591,-210.0034 194.0776,-215.1127 199.2896,-219.7855\"/>\n<text text-anchor=\"middle\" x=\"202\" y=\"-231.8\" font-family=\"Times,serif\" font-size=\"14.00\" fill=\"#000000\">punct</text>\n</g>\n<!-- 3 -->\n<g id=\"node6\" class=\"node\">\n<title>3</title>\n<text text-anchor=\"middle\" x=\"101.5\" y=\"-101.3\" font-family=\"Times,serif\" font-size=\"14.00\" fill=\"#000000\">3 (новый)</text>\n</g>\n<!-- 4&#45;&gt;3 -->\n<g id=\"edge5\" class=\"edge\">\n<title>4&#45;&gt;3</title>\n<path fill=\"none\" stroke=\"#000000\" d=\"M133.212,-173.9735C127.6878,-161.9585 120.323,-145.9401 114.0814,-132.3646\"/>\n<polygon fill=\"#000000\" stroke=\"#000000\" points=\"117.1348,-130.627 109.7774,-123.0034 110.7748,-133.5512 117.1348,-130.627\"/>\n<text text-anchor=\"middle\" x=\"141\" y=\"-144.8\" font-family=\"Times,serif\" font-size=\"14.00\" fill=\"#000000\">amod</text>\n</g>\n<!-- 7 -->\n<g id=\"node7\" class=\"node\">\n<title>7</title>\n<text text-anchor=\"middle\" x=\"206.5\" y=\"-101.3\" font-family=\"Times,serif\" font-size=\"14.00\" fill=\"#000000\">7 (площадку)</text>\n</g>\n<!-- 4&#45;&gt;7 -->\n<g id=\"edge6\" class=\"edge\">\n<title>4&#45;&gt;7</title>\n<path fill=\"none\" stroke=\"#000000\" d=\"M154.968,-173.9735C164.2063,-161.6085 176.6123,-145.0036 186.9367,-131.1847\"/>\n<polygon fill=\"#000000\" stroke=\"#000000\" points=\"189.8678,-133.1093 193.0492,-123.0034 184.26,-128.9196 189.8678,-133.1093\"/>\n<text text-anchor=\"middle\" x=\"191\" y=\"-144.8\" font-family=\"Times,serif\" font-size=\"14.00\" fill=\"#000000\">conj</text>\n</g>\n<!-- 5 -->\n<g id=\"node8\" class=\"node\">\n<title>5</title>\n<text text-anchor=\"middle\" x=\"161.5\" y=\"-14.3\" font-family=\"Times,serif\" font-size=\"14.00\" fill=\"#000000\">5 (и)</text>\n</g>\n<!-- 7&#45;&gt;5 -->\n<g id=\"edge7\" class=\"edge\">\n<title>7&#45;&gt;5</title>\n<path fill=\"none\" stroke=\"#000000\" d=\"M197.176,-86.9735C190.9009,-74.8418 182.5148,-58.6287 175.4499,-44.9698\"/>\n<polygon fill=\"#000000\" stroke=\"#000000\" points=\"178.5151,-43.2776 170.8121,-36.0034 172.2976,-46.4935 178.5151,-43.2776\"/>\n<text text-anchor=\"middle\" x=\"194\" y=\"-57.8\" font-family=\"Times,serif\" font-size=\"14.00\" fill=\"#000000\">cc</text>\n</g>\n<!-- 6 -->\n<g id=\"node9\" class=\"node\">\n<title>6</title>\n<text text-anchor=\"middle\" x=\"250.5\" y=\"-14.3\" font-family=\"Times,serif\" font-size=\"14.00\" fill=\"#000000\">6 (детскую)</text>\n</g>\n<!-- 7&#45;&gt;6 -->\n<g id=\"edge8\" class=\"edge\">\n<title>7&#45;&gt;6</title>\n<path fill=\"none\" stroke=\"#000000\" d=\"M215.6168,-86.9735C221.7524,-74.8418 229.9522,-58.6287 236.8601,-44.9698\"/>\n<polygon fill=\"#000000\" stroke=\"#000000\" points=\"240.005,-46.5066 241.3949,-36.0034 233.7584,-43.3474 240.005,-46.5066\"/>\n<text text-anchor=\"middle\" x=\"248\" y=\"-57.8\" font-family=\"Times,serif\" font-size=\"14.00\" fill=\"#000000\">amod</text>\n</g>\n</g>\n</svg>\n"
          },
          "metadata": {
            "tags": []
          },
          "execution_count": 79
        }
      ]
    },
    {
      "cell_type": "code",
      "metadata": {
        "id": "Pu8wfESYPXP8",
        "colab_type": "code",
        "colab": {
          "base_uri": "https://localhost:8080/",
          "height": 136
        },
        "outputId": "03cc44a4-9c5b-400e-a91c-d564b1f26a80"
      },
      "source": [
        "list(dp_graph.triples())"
      ],
      "execution_count": 84,
      "outputs": [
        {
          "output_type": "execute_result",
          "data": {
            "text/plain": [
              "[(('открыл', 'VERB'), 'nsubj', ('Собянин', 'PROPN')),\n",
              " (('открыл', 'VERB'), 'obj', ('парк', 'NOUN')),\n",
              " (('парк', 'NOUN'), 'amod', ('новый', 'ADJ')),\n",
              " (('парк', 'NOUN'), 'conj', ('площадку', 'NOUN')),\n",
              " (('площадку', 'NOUN'), 'cc', ('и', 'CCONJ')),\n",
              " (('площадку', 'NOUN'), 'amod', ('детскую', 'ADJ')),\n",
              " (('открыл', 'VERB'), 'punct', ('.', 'PUNCT'))]"
            ]
          },
          "metadata": {
            "tags": []
          },
          "execution_count": 84
        }
      ]
    },
    {
      "cell_type": "code",
      "metadata": {
        "id": "Sdz6tbrbPXDm",
        "colab_type": "code",
        "colab": {
          "base_uri": "https://localhost:8080/",
          "height": 170
        },
        "outputId": "076f642a-8525-417f-f98f-3c51eed347d8"
      },
      "source": [
        "# дерево для DeepPavlov\n",
        "dp_tree = dp_graph.tree()\n",
        "print(dp_tree.pretty_print())"
      ],
      "execution_count": 85,
      "outputs": [
        {
          "output_type": "stream",
          "text": [
            "            открыл                      \n",
            "    __________|_____                     \n",
            "   |     |         парк                 \n",
            "   |     |     _____|______              \n",
            "   |     |    |         площадку        \n",
            "   |     |    |      ______|________     \n",
            "Собянин  .  новый   и            детскую\n",
            "\n",
            "None\n"
          ],
          "name": "stdout"
        }
      ]
    },
    {
      "cell_type": "markdown",
      "metadata": {
        "colab_type": "text",
        "id": "-guIzbsSRVZd"
      },
      "source": [
        "**Тройки глагол-объект-субьект:**"
      ]
    },
    {
      "cell_type": "markdown",
      "metadata": {
        "colab_type": "text",
        "id": "I8Eu_H1YRVZb"
      },
      "source": [
        "Предположим, нам нужно вытащить только ту тройку, которая расскажет о предикате(сказуемом), субъекте(подлежащем) и объекте(дополнении)"
      ]
    },
    {
      "cell_type": "code",
      "metadata": {
        "colab_type": "code",
        "outputId": "7e381f9c-1f3d-4dfe-d278-ff7b1820dc69",
        "id": "Ga9nxiT6RVZR",
        "colab": {
          "base_uri": "https://localhost:8080/",
          "height": 34
        }
      },
      "source": [
        "def get_sov(sent): # зададим функцию, которая будет вытаскивать нужную тройку\n",
        "    dp_graph = DependencyGraph(tree_str=dp[0]) \n",
        "    sov = {} # пустой словарь, будем в него складывать\n",
        "    for triple in graph.triples(): # для каждого триплета из всех\n",
        "        if triple:\n",
        "            if triple[0][1] == 'VERB': # если тег первого элемента - VERB\n",
        "                sov[triple[0][0]] = {'subj':'','obj':''}\n",
        "    for triple in graph.triples():\n",
        "        if triple:\n",
        "            if triple[1] == 'nsubj':\n",
        "                if triple[0][1] == 'VERB':\n",
        "                    sov[triple[0][0]]['subj']  = triple[2][0]\n",
        "            if triple[1] == 'obj':\n",
        "                if triple[0][1] == 'VERB':\n",
        "                    sov[triple[0][0]]['obj'] = triple[2][0]\n",
        "    return sov\n",
        "\n",
        "sov = get_sov(sent)\n",
        "print(sov)"
      ],
      "execution_count": 119,
      "outputs": [
        {
          "output_type": "stream",
          "text": [
            "{'открыл': {'subj': 'Собянин', 'obj': 'парк'}}\n"
          ],
          "name": "stdout"
        }
      ]
    },
    {
      "cell_type": "markdown",
      "metadata": {
        "id": "t1z1Uyp7WslC",
        "colab_type": "text"
      },
      "source": [
        "улучшим функцию, теперь она находит однородные дополнения *(парк и площадку)*"
      ]
    },
    {
      "cell_type": "code",
      "metadata": {
        "id": "sPrf4hKJWeL7",
        "colab_type": "code",
        "colab": {
          "base_uri": "https://localhost:8080/",
          "height": 88
        },
        "outputId": "aeb92ef4-6cdf-4aa9-a374-06f63064cc40"
      },
      "source": [
        "from collections import defaultdict as dd\n",
        "\n",
        "\n",
        "def get_sov(sent):\n",
        "    graph = DependencyGraph(tree_str=dp[0])\n",
        "\n",
        "    subjects = dd(lambda : {\"subject\": \"\", \"verb\": \"\", \"objects\": []})\n",
        "    verbs = dd(lambda : {\"subject\": \"\", \"verb\": \"\", \"objects\": []})\n",
        "    \n",
        "    for triple in graph.triples():\n",
        "        if triple:\n",
        "            \n",
        "            if triple[1] == 'conj':\n",
        "                subjects[triple[0][0]][\"objects\"].append(triple[2][0])\n",
        "                \n",
        "            if triple[1] == 'nsubj':\n",
        "                if triple[0][1] == 'VERB':\n",
        "                    verbs[triple[0][0]][\"subject\"] = triple[2][0]\n",
        "            if triple[1] == 'obj':\n",
        "                if triple[0][1] == 'VERB':\n",
        "                    subjects[triple[2][0]][\"verb\"] = triple[0][0]\n",
        "                    subjects[triple[2][0]][\"objects\"].append(triple[2][0])\n",
        "\n",
        "    \n",
        "    sovs = []\n",
        "\n",
        "    print(subjects, verbs)\n",
        "    \n",
        "    for v in subjects.values():\n",
        "        for obj in v[\"objects\"]:\n",
        "            sovs.append((verbs[v[\"verb\"]][\"subject\"], v[\"verb\"], obj))\n",
        "    return sovs\n",
        "\n",
        "sov = get_sov(sent)\n",
        "print(\"\\n\",sov[-2:])"
      ],
      "execution_count": 128,
      "outputs": [
        {
          "output_type": "stream",
          "text": [
            "defaultdict(<function get_sov.<locals>.<lambda> at 0x7f96b56b2268>, {'парк': {'subject': '', 'verb': 'открыл', 'objects': ['парк', 'площадку']}}) defaultdict(<function get_sov.<locals>.<lambda> at 0x7f96b56b2510>, {'открыл': {'subject': 'Собянин', 'verb': '', 'objects': []}})\n",
            "\n",
            " [('Собянин', 'открыл', 'парк'), ('Собянин', 'открыл', 'площадку')]\n"
          ],
          "name": "stdout"
        }
      ]
    },
    {
      "cell_type": "markdown",
      "metadata": {
        "id": "2fhNcFP0zYYq",
        "colab_type": "text"
      },
      "source": [
        "## идеи дальше:\n",
        "(на выбор)\n",
        "1. Выбрать текст (на русском), с которым было бы интересно поработать. Попробовать вытащить все тройки предикат-субъект-объект из выбранного текста, посмотреть на результат, проинтерпретировать\n",
        "2. Написать функцию,которая бы учитывала сложные сказуемые*(начинает уходить, устал думать)* как единый элемент (она похожа на функцию, которая собирает однородные дополнения, нам также нужно что-то сделать с тегами)\n",
        "3. попробовать предобученные модели для других языков\n",
        "4. Попробовать парсеры на предложениях с [синтаксической омонимией](https://github.com/sjut/DPO_Materials/blob/ff1341f1d82ca11a763e15d76601bd6898958323/%D0%9F%D1%80%D0%B0%D0%BA%D1%82%D0%B8%D1%87%D0%B5%D1%81%D0%BA%D0%B8%D0%B5%20%D0%B7%D0%B0%D0%BD%D1%8F%D1%82%D0%B8%D1%8F/%D1%81%D0%B8%D0%BD%D1%82_%D0%BD%D0%B5%D0%BE%D0%B4%D0%BD%D0%BE%D0%B7%D0%BD%D0%B0%D1%87%D0%BD%D0%BE%D1%81%D1%82%D1%8C.txt), проинтерпретировать результаты"
      ]
    },
    {
      "cell_type": "markdown",
      "metadata": {
        "id": "v_ZO2RZM-7ZJ",
        "colab_type": "text"
      },
      "source": [
        "# что есть еще? \n",
        "\n",
        "более немейнстримные парсеры"
      ]
    },
    {
      "cell_type": "markdown",
      "metadata": {
        "id": "pq6mKkYnV-nE",
        "colab_type": "text"
      },
      "source": [
        "## SyntaxNet"
      ]
    },
    {
      "cell_type": "markdown",
      "metadata": {
        "id": "XhUfIPQ5ef8F",
        "colab_type": "text"
      },
      "source": [
        "SyntaxNet — это гугловская библиотека для определения синтаксических связей (использует нейронную сеть на TensorFlow). Поддерживает 40 языков, в том числе  русский.\n",
        "\n",
        "* [документация](https://github.com/tensorflow/models/blob/master/research/syntaxnet/README.md)\n",
        "* [репозиторий на гитхабе](https://github.com/tensorflow/models/tree/master/research/syntaxnet)\n",
        "* [тьюториал](https://github.com/tensorflow/models/blob/master/research/syntaxnet/g3doc/syntaxnet-tutorial.md)\n",
        "* [ссылка на обученные модели](https://github.com/tensorflow/models/blob/master/research/syntaxnet/g3doc/universal.md)"
      ]
    },
    {
      "cell_type": "markdown",
      "metadata": {
        "id": "mpzSzxbf_K2l",
        "colab_type": "text"
      },
      "source": [
        "## Stanford Parser"
      ]
    },
    {
      "cell_type": "markdown",
      "metadata": {
        "id": "LK9TRxO5_OhV",
        "colab_type": "text"
      },
      "source": [
        "* [о проекте](https://nlp.stanford.edu/software/stanford-dependencies.shtml#Languages)\n",
        "* [о парсере](https://nlp.stanford.edu/software/lex-parser.html)\n",
        "* [питонская обертка](http://projects.csail.mit.edu/spatial/Stanford_Parser)"
      ]
    }
  ]
}