{
  "nbformat": 4,
  "nbformat_minor": 0,
  "metadata": {
    "colab": {
      "name": ".ipynb",
      "provenance": [],
      "authorship_tag": "ABX9TyNV6tI5S8TSOTuXPPotb3D6",
      "include_colab_link": true
    },
    "kernelspec": {
      "name": "python3",
      "display_name": "Python 3"
    }
  },
  "cells": [
    {
      "cell_type": "markdown",
      "metadata": {
        "id": "view-in-github",
        "colab_type": "text"
      },
      "source": [
        "<a href=\"https://colab.research.google.com/github/sjut/DPO_Materials/blob/master/food.ipynb\" target=\"_parent\"><img src=\"https://colab.research.google.com/assets/colab-badge.svg\" alt=\"Open In Colab\"/></a>"
      ]
    },
    {
      "cell_type": "markdown",
      "metadata": {
        "id": "8R9fRElyV-3U",
        "colab_type": "text"
      },
      "source": [
        "#Извлечение информации правлами\n",
        "##Продолжение FOOD\n",
        "Для извлечения структурированной информации из неструткурированных текстов существуют специальные системы, основанные на правилах.\\\n",
        "Обычно система состоит из:\n",
        "правила + гезетёры (или газетиры gazetteer)\\\n",
        "*газетеры* - специальные списки - например, списики названий всех организаций, которые должна извлекать система; списки продуктов для извлечения ингредиентов из рецептов и т.п.\\\n",
        "Формально система правил может быть реализована как система конченых преобразователей (Gate), либо как система контекстно-свободных грамматик\n",
        "\n",
        "[Yargy](https://yargy.readthedocs.io/ru/latest/) — библиотека для извлечения структурированной информации из текстов на русском языке. Правила описываются контекстно-свободными грамматиками и словарями ключевых слов (газетерами).\\\n",
        "\n",
        "Банк готовых правил для имён, дат, адресов и других сущностей доступен в репозитории [Natasha](https://github.com/natasha/natasha).\n"
      ]
    },
    {
      "cell_type": "code",
      "metadata": {
        "id": "y_DPZzgqU0Ym",
        "colab_type": "code",
        "colab": {
          "base_uri": "https://localhost:8080/",
          "height": 417
        },
        "outputId": "5858fcc2-9743-4846-f6f1-85aa4de692d1"
      },
      "source": [
        "#устанавливаем yargy - Yargy — библиотека для извлечения структурированной информации из текстов на русском языке. Правила описываются контекстно-свободными грамматиками и словарями ключевых слов. \n",
        "!pip install yargy\n",
        "!pip install ipymarkup #Collection of NLP visualizations for NER and syntax tree markup."
      ],
      "execution_count": 1,
      "outputs": [
        {
          "output_type": "stream",
          "text": [
            "Collecting yargy\n",
            "\u001b[?25l  Downloading https://files.pythonhosted.org/packages/37/64/d6abf637228bed6b0249b522f588d19dca9f09ab65db13bef41096f51889/yargy-0.12.0-py2.py3-none-any.whl (41kB)\n",
            "\r\u001b[K     |████████                        | 10kB 18.3MB/s eta 0:00:01\r\u001b[K     |███████████████▉                | 20kB 2.0MB/s eta 0:00:01\r\u001b[K     |███████████████████████▊        | 30kB 2.9MB/s eta 0:00:01\r\u001b[K     |███████████████████████████████▋| 40kB 3.2MB/s eta 0:00:01\r\u001b[K     |████████████████████████████████| 51kB 2.6MB/s \n",
            "\u001b[?25hCollecting backports.functools-lru-cache==1.3\n",
            "  Downloading https://files.pythonhosted.org/packages/d4/40/0b1db94fdfd71353ae67ec444ff28e0a7ecc25212d1cb94c291b6cd226f9/backports.functools_lru_cache-1.3-py2.py3-none-any.whl\n",
            "Collecting pymorphy2==0.8\n",
            "\u001b[?25l  Downloading https://files.pythonhosted.org/packages/a3/33/fff9675c68b5f6c63ec8c6e6ff57827dda28a1fa5b2c2d727dffff92dd47/pymorphy2-0.8-py2.py3-none-any.whl (46kB)\n",
            "\u001b[K     |████████████████████████████████| 51kB 4.9MB/s \n",
            "\u001b[?25hCollecting pymorphy2-dicts<3.0,>=2.4\n",
            "\u001b[?25l  Downloading https://files.pythonhosted.org/packages/02/51/2465fd4f72328ab50877b54777764d928da8cb15b74e2680fc1bd8cb3173/pymorphy2_dicts-2.4.393442.3710985-py2.py3-none-any.whl (7.1MB)\n",
            "\u001b[K     |████████████████████████████████| 7.1MB 6.1MB/s \n",
            "\u001b[?25hRequirement already satisfied: docopt>=0.6 in /usr/local/lib/python3.6/dist-packages (from pymorphy2==0.8->yargy) (0.6.2)\n",
            "Collecting dawg-python>=0.7\n",
            "  Downloading https://files.pythonhosted.org/packages/6a/84/ff1ce2071d4c650ec85745766c0047ccc3b5036f1d03559fd46bb38b5eeb/DAWG_Python-0.7.2-py2.py3-none-any.whl\n",
            "Installing collected packages: backports.functools-lru-cache, pymorphy2-dicts, dawg-python, pymorphy2, yargy\n",
            "Successfully installed backports.functools-lru-cache-1.3 dawg-python-0.7.2 pymorphy2-0.8 pymorphy2-dicts-2.4.393442.3710985 yargy-0.12.0\n",
            "Collecting ipymarkup\n",
            "  Downloading https://files.pythonhosted.org/packages/d8/29/eaa1bcf649d6333dea829c05577c67f881d0555b6d77c1da72afda5c847d/ipymarkup-0.5.0-py2.py3-none-any.whl\n",
            "Requirement already satisfied: intervaltree==2.1.0 in /usr/local/lib/python3.6/dist-packages (from ipymarkup) (2.1.0)\n",
            "Requirement already satisfied: sortedcontainers in /usr/local/lib/python3.6/dist-packages (from intervaltree==2.1.0->ipymarkup) (2.1.0)\n",
            "Installing collected packages: ipymarkup\n",
            "Successfully installed ipymarkup-0.5.0\n"
          ],
          "name": "stdout"
        }
      ]
    },
    {
      "cell_type": "code",
      "metadata": {
        "id": "fZJw5mqOa2uO",
        "colab_type": "code",
        "colab": {
          "base_uri": "https://localhost:8080/",
          "height": 145
        },
        "outputId": "01c89b3a-ae8c-40b2-f348-752dc2ae39ae"
      },
      "source": [
        "#клонируем папку гитхабе yargy - пример про извлечение данных из рецептов приготовления еды 04_food\n",
        "%cd /content\n",
        "!git clone https://github.com/natasha/yargy-examples.git\n",
        "%cd yargy-examples/04_food"
      ],
      "execution_count": 4,
      "outputs": [
        {
          "output_type": "stream",
          "text": [
            "/content\n",
            "Cloning into 'yargy-examples'...\n",
            "remote: Enumerating objects: 2087, done.\u001b[K\n",
            "remote: Total 2087 (delta 0), reused 0 (delta 0), pack-reused 2087\u001b[K\n",
            "Receiving objects: 100% (2087/2087), 6.25 MiB | 20.79 MiB/s, done.\n",
            "Resolving deltas: 100% (118/118), done.\n",
            "/content/yargy-examples/04_food\n"
          ],
          "name": "stdout"
        }
      ]
    },
    {
      "cell_type": "code",
      "metadata": {
        "id": "nprVxmPBaSIU",
        "colab_type": "code",
        "colab": {}
      },
      "source": [
        "# Модуль glob находит все пути, совпадающие с заданным шаблоном в соответствии с правилами, используемыми оболочкой Unix.\n",
        "from glob import glob\n",
        "\n",
        "# стандартизуем тире,  заменяем (убираем) спецсиволы (неразрывные пробелы, мягкие переносы) и т.п.  \n",
        "\n",
        "def make_translation(source, target):\n",
        "    assert len(source) == len(target)\n",
        "    return {\n",
        "        ord(a): ord(b)\n",
        "        for a, b in zip(source, target)\n",
        "    }\n",
        "\n",
        "\n",
        "DASHES_TRANSLATION = make_translation(\n",
        "    '‑–—−',\n",
        "    '----'\n",
        ")\n",
        "\n",
        "\n",
        "def preprocess(text):\n",
        "    text = text.replace('\\xa0', ' ')\n",
        "    text = text.replace('\\xad', '')\n",
        "    text = text.translate(DASHES_TRANSLATION)\n",
        "    return text\n",
        "\n",
        "#считываем тексты из папки с текстами (файлы с расширением .txt) и кладем их в список\n",
        "texts = []\n",
        "for path in sorted(glob('texts/*.txt')):\n",
        "    with open(path) as file:\n",
        "        text = file.read()\n",
        "        text = preprocess(text)\n",
        "        texts.append(text)"
      ],
      "execution_count": 0,
      "outputs": []
    },
    {
      "cell_type": "code",
      "metadata": {
        "id": "PVyxlBkVagnA",
        "colab_type": "code",
        "colab": {
          "base_uri": "https://localhost:8080/",
          "height": 417
        },
        "outputId": "fff24a99-8562-4d5f-9643-144c7d82d53d"
      },
      "source": [
        "#проверяем, что записалось в список, сколько текстов считалось\n",
        "print(texts[0])\n",
        "len(texts)"
      ],
      "execution_count": 8,
      "outputs": [
        {
          "output_type": "stream",
          "text": [
            "Салат с ананасами и курицей 🍍\n",
            "\n",
            "Ингредиенты:\n",
            "\n",
            "● Филе куриной грудки 1 шт.\n",
            "● Шампиньоны 300 г\n",
            "● Кукуруза консервированная 1 банка\n",
            "● Сыр 200 г\n",
            "● Лук репчатый 1 головка\n",
            "● Чеснок 2 зубчика\n",
            "● Ананас консервированный 1 банка\n",
            "● Майонез по вкусу\n",
            "\n",
            "Приготовление:\n",
            "\n",
            "1. Обжарить грибы с луком с добавить немного соли. Старайтесь не резать грибы слишком мелко.\n",
            "2. Отварить куриную грудку без кожи, нарезать кусочками и добавить к ней консервированную кукурузу.\n",
            "3. Сыр также нарезать маленькими кубиками или натереть на крупной терке. Добавить к курице с кукурузой.\n",
            "4. Смешать все ингредиенты с консервированным ананасом и заправить салат майонезом с чесноком.\n",
            "\n",
            "Приятного аппетита!\n"
          ],
          "name": "stdout"
        },
        {
          "output_type": "execute_result",
          "data": {
            "text/plain": [
              "1000"
            ]
          },
          "metadata": {
            "tags": []
          },
          "execution_count": 8
        }
      ]
    },
    {
      "cell_type": "code",
      "metadata": {
        "id": "2_tJMqkD44nd",
        "colab_type": "code",
        "colab": {
          "base_uri": "https://localhost:8080/",
          "height": 1000
        },
        "outputId": "fc0657ca-4c62-4e0b-91ae-e585fc0eaa2e"
      },
      "source": [
        "from random import seed, sample\n",
        "#случайным образом выбираем тексты и смотрим, как они устроены\n",
        "seed(40)\n",
        "for text in sample(texts, 2):\n",
        "    print(text)\n",
        "    print('---' * 10)"
      ],
      "execution_count": 11,
      "outputs": [
        {
          "output_type": "stream",
          "text": [
            "Мексиканский суп с курицей\n",
            "\n",
            "Нам потребуется:\n",
            "\n",
            "Куриная грудка - 1 шт.,\n",
            "Лук репчатый - 1 шт.,\n",
            "Красная фасоль консервированная - 1 банка,\n",
            "Вермишель - 50 г,\n",
            "Кукуруза замороженная - 100 г,\n",
            "Укроп - по вкусу,\n",
            "Соль - по вкусу,\n",
            "Молотый острый красный перец - по вкусу.\n",
            "\n",
            "Из куриной грудки сварите бульон, достаньте мясо, отделите от костей и мелко нарежьте.\n",
            "\n",
            "Лук мелко нашинкуйте. В глубоком сотейнике разогрейте растительное масло и обжарьте лук до прозрачности.\n",
            "\n",
            "Добавьте к луку курицу и обжаривайте несколько минут. С фасоли слейте жидкость. Переложите фасоль в сотейник, добавьте молотый перец по вкусу, перемешайте и продолжайте обжаривать.\n",
            "\n",
            "Залейте в сотейник куриный бульон, посолите по вкусу и варите 5 мин. Добавьте вермишель и кукурузу, варите еще 5 минут, затем накройте крышкой и снимите с огня.\n",
            "\n",
            "Дайте супу настояться. Мелко нарубите укроп. Подавайте суп с укропом и кукурузными чипсами.\n",
            "------------------------------\n",
            "Мясной пирог\n",
            "\n",
            "Ингредиенты:\n",
            "для теста:\n",
            "сливочное масло - 1/2 стак\n",
            "сметана - 1 стак\n",
            "яйцо - 1 шт\n",
            "сода для выпечки - 1/4 ч.л\n",
            "соль - 1/4 ч.л.\n",
            "мука - 2,5 стак\n",
            "\n",
            "для начинки:\n",
            "баранина - 450 гр\n",
            "луковица - 2 шт\n",
            "картофель - 2 шт\n",
            "соль - 1 ч.л.\n",
            "черный перец - 1/2 ч.л.\n",
            "кумин - 1/2 ч.л.\n",
            "яйцо - 1 шт\n",
            "\n",
            "Приготовление:\n",
            "- В средней миске смешать растопленное сливочное масло, сметану, 1 яйцо, порошок для выпечки и соль.\n",
            "- Добавить первые 2 стакана муки и посмотреть, можно ли замесить очень мягкое тесто, которое не будет прилипать к рукам или к стенкам миски.\n",
            "- Если этого не достаточно, добавить оставшуюся муку и продолжать месить.\n",
            "- Разделить тесто на 2 части. Одна часть должна быть немного меньше, чем другая. Оберните их полиэтиленовой пленкой и отложите в сторону.\n",
            "- Разогреть духовку до 375F.\n",
            "- Тонко покрошить лук.\n",
            "- Нарежьте мясо и картофель на маленькие кубики. Добавьте специи и все хорошенько перемешайте.\n",
            "- Раскатайте большую часть теста на листе для выпечки, предварительно посыпав его мукой.\n",
            "- Наполняем пирог начинкой. Оставьте немного места по краям.\n",
            "- Закрываем начинку второй частью теста, запечатываем края.\n",
            "- Смешиваем яйцо с небольшим количеством воды и промазываем кисточкой верхнюю часть пирога.\n",
            "- Сделайте небольшие надрезы. Выпекайте пирог до золотистого цвета.\n",
            "------------------------------\n"
          ],
          "name": "stdout"
        }
      ]
    },
    {
      "cell_type": "markdown",
      "metadata": {
        "id": "Fy-62KDg5kIw",
        "colab_type": "text"
      },
      "source": [
        "Эвристики: строки с ингредиентами короткие (пусть не больше 50 символов) и содержат числа "
      ]
    },
    {
      "cell_type": "code",
      "metadata": {
        "id": "OwuwUAN947RR",
        "colab_type": "code",
        "colab": {}
      },
      "source": [
        "import re\n",
        "\n",
        "#функция, которая отбирает строки с ингредтиентами\n",
        "def find_ingredient_sections(text):\n",
        "    return re.findall(r'ингредиенты:(.+?)приготовление', text, re.I | re.S)\n",
        "\n",
        "#проверяем длину строки и наличие числа\n",
        "def maybe_ingredient(line):\n",
        "    match = re.search(r'\\d', line)\n",
        "    size = len(line) <= 50\n",
        "    return match and size\n",
        "\n",
        "lines = []\n",
        "\n",
        "#в переменную lines (список из строк) записываем только строки длиной меньше 50 символов, содержащих число\n",
        "for text in texts:\n",
        "    sections = find_ingredient_sections(text)\n",
        "    for section in sections:\n",
        "        for line in section.splitlines():\n",
        "            if maybe_ingredient(line):\n",
        "                lines.append(line)"
      ],
      "execution_count": 0,
      "outputs": []
    },
    {
      "cell_type": "code",
      "metadata": {
        "id": "i-q9KkOR6zxy",
        "colab_type": "code",
        "colab": {
          "base_uri": "https://localhost:8080/",
          "height": 35
        },
        "outputId": "60d3eaee-0f99-4eb2-98f0-e27eb7567622"
      },
      "source": [
        "print(lines[0])"
      ],
      "execution_count": 14,
      "outputs": [
        {
          "output_type": "stream",
          "text": [
            "● Филе куриной грудки 1 шт.\n"
          ],
          "name": "stdout"
        }
      ]
    },
    {
      "cell_type": "code",
      "metadata": {
        "id": "pDFdlkxP7FTp",
        "colab_type": "code",
        "colab": {
          "base_uri": "https://localhost:8080/",
          "height": 381
        },
        "outputId": "450407b9-f929-42d7-dce1-a7a70004a297"
      },
      "source": [
        "seed(14)\n",
        "sample(lines, 20)"
      ],
      "execution_count": 15,
      "outputs": [
        {
          "output_type": "execute_result",
          "data": {
            "text/plain": [
              "['● Оливковое масло - 2 ст. л.',\n",
              " 'Молоко 1% - 100 г ',\n",
              " '- Морковь 2 - 3 шт.',\n",
              " 'творог - 500 г,',\n",
              " '2 яйца,',\n",
              " '* 3/4 стакана холодной кипяченой воды',\n",
              " '• сыр - 100 г.',\n",
              " '1 нарезанный красный перец',\n",
              " '230 г кокосового или тростникового сахара ',\n",
              " 'Яйцо - 3 шт.',\n",
              " 'Сок лайма - 2 Ст. ложки',\n",
              " '● Мука - 100 г.',\n",
              " 'Сметана - 50 г',\n",
              " '● Бананы - 3 шт.',\n",
              " 'ананасы консервированные - 1 банка ',\n",
              " '● Сыр твердый 30 гр.',\n",
              " '500 мл растительного масла ',\n",
              " '5) соль, растительное масло для пассеровки овощей.',\n",
              " '5 средних варёных картофелин ',\n",
              " '● 3-5 зубчиков чеснока; ']"
            ]
          },
          "metadata": {
            "tags": []
          },
          "execution_count": 15
        }
      ]
    },
    {
      "cell_type": "markdown",
      "metadata": {
        "id": "segOZ6qH7MZK",
        "colab_type": "text"
      },
      "source": [
        "#Грамматика"
      ]
    },
    {
      "cell_type": "code",
      "metadata": {
        "id": "cuJ_r3ct7HDC",
        "colab_type": "code",
        "colab": {}
      },
      "source": [
        "from IPython.display import display\n",
        "\n",
        "# pip install ipymarkup\n",
        "from ipymarkup import show_markup, AsciiMarkup\n",
        "\n",
        "from yargy import (\n",
        "    Parser,\n",
        "    or_, rule\n",
        ")\n",
        "from yargy.pipelines import morph_pipeline\n",
        "from yargy.predicates import (\n",
        "    eq, in_, dictionary,\n",
        "    type, gram\n",
        ")\n",
        "from yargy.tokenizer import MorphTokenizer\n",
        "from yargy import interpretation as interp\n",
        "from yargy.interpretation import fact, attribute\n",
        "\n",
        "\n",
        "def show_matches(rule, *lines):\n",
        "    parser = Parser(rule)\n",
        "    for line in lines:\n",
        "        matches = parser.findall(line)\n",
        "        matches = sorted(matches, key=lambda _: _.span)\n",
        "        spans = [_.span for _ in matches]\n",
        "        show_markup(line, spans, AsciiMarkup)\n",
        "        if matches:\n",
        "            facts = [_.fact for _ in matches]\n",
        "            if len(facts) == 1:\n",
        "                facts = facts[0]\n",
        "            display(facts)\n",
        "\n",
        "\n",
        "INT = type('INT')\n",
        "NOUN = gram('NOUN')\n",
        "ADJF = gram('ADJF')\n",
        "PRTF = gram('PRTF')\n",
        "GENT = gram('gent')\n",
        "DOT = eq('.')\n",
        "\n",
        "TOKENIZER = MorphTokenizer()"
      ],
      "execution_count": 0,
      "outputs": []
    },
    {
      "cell_type": "markdown",
      "metadata": {
        "id": "1b4rSO5g7u7a",
        "colab_type": "text"
      },
      "source": [
        "##Spoon\n",
        "В прошлый раз мы все строили постепенно, чтобы посмотреть, как работают отдельные фунции, предикаты и факты\\\n",
        "Теперь будет более системно строить парсер\n",
        "(1) для начала исчислим все варианты меры \"ложка\"\n"
      ]
    },
    {
      "cell_type": "code",
      "metadata": {
        "id": "MaizbRxe7t3b",
        "colab_type": "code",
        "colab": {
          "base_uri": "https://localhost:8080/",
          "height": 126
        },
        "outputId": "453bdda3-9920-45a6-f334-8c5c4db0b2ac"
      },
      "source": [
        "Spoon = fact(\n",
        "    'Spoon',\n",
        "    ['type']\n",
        ")\n",
        "\n",
        "\n",
        "TEA = morph_pipeline([\n",
        "    'ч',\n",
        "    'чайн',\n",
        "    'чайная',\n",
        "]).interpretation(\n",
        "    Spoon.type.const('чайная')\n",
        ")\n",
        "\n",
        "TABLE = morph_pipeline([\n",
        "    'ст',\n",
        "    'стол',\n",
        "    'столовая',\n",
        "]).interpretation(\n",
        "    Spoon.type.const('столовая')\n",
        ")\n",
        "\n",
        "NAME = morph_pipeline([\n",
        "    'л',\n",
        "    'ложка'\n",
        "])\n",
        "\n",
        "SPOON = rule(\n",
        "    or_(TEA, TABLE),\n",
        "    DOT.optional(),\n",
        "    NAME,\n",
        "    DOT.optional()\n",
        ").interpretation(\n",
        "    Spoon\n",
        ")\n",
        "\n",
        "\n",
        "show_matches(\n",
        "    SPOON,\n",
        "    '2 Ст. ложки',\n",
        "    '3 чайных л',\n",
        ")"
      ],
      "execution_count": 18,
      "outputs": [
        {
          "output_type": "display_data",
          "data": {
            "text/plain": [
              "2 Ст. ложки\n",
              "  ---------\n"
            ]
          },
          "metadata": {
            "tags": []
          }
        },
        {
          "output_type": "display_data",
          "data": {
            "text/plain": [
              "Spoon(type='столовая')"
            ]
          },
          "metadata": {
            "tags": []
          }
        },
        {
          "output_type": "display_data",
          "data": {
            "text/plain": [
              "3 чайных л\n",
              "  --------\n"
            ]
          },
          "metadata": {
            "tags": []
          }
        },
        {
          "output_type": "display_data",
          "data": {
            "text/plain": [
              "Spoon(type='чайная')"
            ]
          },
          "metadata": {
            "tags": []
          }
        }
      ]
    }
  ]
}
